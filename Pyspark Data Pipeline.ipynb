{
 "cells": [
  {
   "cell_type": "code",
   "execution_count": 1,
   "metadata": {},
   "outputs": [],
   "source": [
    "import findspark\n",
    "findspark.init()"
   ]
  },
  {
   "cell_type": "code",
   "execution_count": 2,
   "metadata": {},
   "outputs": [],
   "source": [
    "import pyspark\n",
    "from pyspark.sql import SparkSession  \n",
    "from pyspark.sql.types import *\n",
    "from pyspark.sql.functions import *\n",
    "\n",
    "# Configure spark session\n",
    "spark = SparkSession\\\n",
    "    .builder\\\n",
    "    .master('local[2]')\\\n",
    "    .appName('quake_etl')\\\n",
    "    .config('spark.jars.packages', 'org.mongodb.spark:mongo-spark-connector_2.12:2.4.1')\\\n",
    "    .getOrCreate()\n"
   ]
  },
  {
   "cell_type": "code",
   "execution_count": 3,
   "metadata": {},
   "outputs": [
    {
     "data": {
      "text/plain": [
       "[Row(Date='01/02/1965', Time='13:44:18', Latitude='19.246', Longitude='145.616', Type='Earthquake', Depth='131.6', Depth Error=None, Depth Seismic Stations=None, Magnitude='6', Magnitude Type='MW', Magnitude Error=None, Magnitude Seismic Stations=None, Azimuthal Gap=None, Horizontal Distance=None, Horizontal Error=None, Root Mean Square=None, ID='ISCGEM860706', Source='ISCGEM', Location Source='ISCGEM', Magnitude Source='ISCGEM', Status='Automatic')]"
      ]
     },
     "execution_count": 3,
     "metadata": {},
     "output_type": "execute_result"
    }
   ],
   "source": [
    "# Load the dataset \n",
    "df_load = spark.read.csv(r\"C:\\Users\\Shuting\\Downloads\\database.csv\", header=True)\n",
    "# Preview df_load\n",
    "df_load.take(1)"
   ]
  },
  {
   "cell_type": "code",
   "execution_count": 4,
   "metadata": {},
   "outputs": [
    {
     "name": "stdout",
     "output_type": "stream",
     "text": [
      "+----------+--------+---------+----------+-----+---------+--------------+------------+\n",
      "|      Date|Latitude|Longitude|      Type|Depth|Magnitude|Magnitude Type|          ID|\n",
      "+----------+--------+---------+----------+-----+---------+--------------+------------+\n",
      "|01/02/1965|  19.246|  145.616|Earthquake|131.6|        6|            MW|ISCGEM860706|\n",
      "|01/04/1965|   1.863|  127.352|Earthquake|   80|      5.8|            MW|ISCGEM860737|\n",
      "|01/05/1965| -20.579| -173.972|Earthquake|   20|      6.2|            MW|ISCGEM860762|\n",
      "|01/08/1965| -59.076|  -23.557|Earthquake|   15|      5.8|            MW|ISCGEM860856|\n",
      "|01/09/1965|  11.938|  126.427|Earthquake|   15|      5.8|            MW|ISCGEM860890|\n",
      "+----------+--------+---------+----------+-----+---------+--------------+------------+\n",
      "only showing top 5 rows\n",
      "\n"
     ]
    }
   ],
   "source": [
    "# Drop fields we don't need from df_load\n",
    "lst_dropped_columns = ['Depth Error', 'Time', 'Depth Seismic Stations','Magnitude Error','Magnitude Seismic Stations','Azimuthal Gap', 'Horizontal Distance','Horizontal Error',\n",
    "    'Root Mean Square','Source','Location Source','Magnitude Source','Status']\n",
    "\n",
    "df_load = df_load.drop(*lst_dropped_columns)\n",
    "# Preview df_load\n",
    "df_load.show(5)"
   ]
  },
  {
   "cell_type": "code",
   "execution_count": 5,
   "metadata": {},
   "outputs": [
    {
     "name": "stdout",
     "output_type": "stream",
     "text": [
      "+----------+--------+---------+----------+-----+---------+--------------+------------+----+\n",
      "|      Date|Latitude|Longitude|      Type|Depth|Magnitude|Magnitude Type|          ID|Year|\n",
      "+----------+--------+---------+----------+-----+---------+--------------+------------+----+\n",
      "|01/02/1965|  19.246|  145.616|Earthquake|131.6|        6|            MW|ISCGEM860706|1965|\n",
      "|01/04/1965|   1.863|  127.352|Earthquake|   80|      5.8|            MW|ISCGEM860737|1965|\n",
      "|01/05/1965| -20.579| -173.972|Earthquake|   20|      6.2|            MW|ISCGEM860762|1965|\n",
      "|01/08/1965| -59.076|  -23.557|Earthquake|   15|      5.8|            MW|ISCGEM860856|1965|\n",
      "|01/09/1965|  11.938|  126.427|Earthquake|   15|      5.8|            MW|ISCGEM860890|1965|\n",
      "+----------+--------+---------+----------+-----+---------+--------------+------------+----+\n",
      "only showing top 5 rows\n",
      "\n"
     ]
    }
   ],
   "source": [
    "# Create a year field and add it to the dataframe\n",
    "df_load = df_load.withColumn('Year', year(to_timestamp('Date', 'dd/MM/yyyy')))\n",
    "# Preview df_load\n",
    "df_load.show(5)"
   ]
  },
  {
   "cell_type": "code",
   "execution_count": 6,
   "metadata": {},
   "outputs": [
    {
     "name": "stdout",
     "output_type": "stream",
     "text": [
      "+----+------+\n",
      "|Year|Counts|\n",
      "+----+------+\n",
      "|1965|   156|\n",
      "|1966|    98|\n",
      "|1967|   103|\n",
      "|1968|   106|\n",
      "|1969|   114|\n",
      "+----+------+\n",
      "only showing top 5 rows\n",
      "\n"
     ]
    }
   ],
   "source": [
    "# Build the quakes frequency dataframe using the year field and counts for each year\n",
    "df_quake_freq = df_load.groupBy('Year').count().withColumnRenamed('count', 'Counts')\n",
    "# Preview df_quake_freq\n",
    "df_quake_freq.show(5)"
   ]
  },
  {
   "cell_type": "code",
   "execution_count": 7,
   "metadata": {},
   "outputs": [
    {
     "name": "stdout",
     "output_type": "stream",
     "text": [
      "root\n",
      " |-- Date: string (nullable = true)\n",
      " |-- Latitude: string (nullable = true)\n",
      " |-- Longitude: string (nullable = true)\n",
      " |-- Type: string (nullable = true)\n",
      " |-- Depth: string (nullable = true)\n",
      " |-- Magnitude: string (nullable = true)\n",
      " |-- Magnitude Type: string (nullable = true)\n",
      " |-- ID: string (nullable = true)\n",
      " |-- Year: integer (nullable = true)\n",
      "\n"
     ]
    }
   ],
   "source": [
    "# Preview df_load schema\n",
    "df_load.printSchema()"
   ]
  },
  {
   "cell_type": "code",
   "execution_count": 8,
   "metadata": {},
   "outputs": [
    {
     "name": "stdout",
     "output_type": "stream",
     "text": [
      "+----------+--------+---------+----------+-----+---------+--------------+------------+----+\n",
      "|      Date|Latitude|Longitude|      Type|Depth|Magnitude|Magnitude Type|          ID|Year|\n",
      "+----------+--------+---------+----------+-----+---------+--------------+------------+----+\n",
      "|01/02/1965|  19.246|  145.616|Earthquake|131.6|      6.0|            MW|ISCGEM860706|1965|\n",
      "|01/04/1965|   1.863|  127.352|Earthquake| 80.0|      5.8|            MW|ISCGEM860737|1965|\n",
      "|01/05/1965| -20.579| -173.972|Earthquake| 20.0|      6.2|            MW|ISCGEM860762|1965|\n",
      "|01/08/1965| -59.076|  -23.557|Earthquake| 15.0|      5.8|            MW|ISCGEM860856|1965|\n",
      "|01/09/1965|  11.938|  126.427|Earthquake| 15.0|      5.8|            MW|ISCGEM860890|1965|\n",
      "+----------+--------+---------+----------+-----+---------+--------------+------------+----+\n",
      "only showing top 5 rows\n",
      "\n"
     ]
    }
   ],
   "source": [
    "# Cast some fields from string into numeric types\n",
    "df_load = df_load.withColumn('Latitude', df_load['Latitude'].cast(DoubleType()))\\\n",
    "    .withColumn('Longitude', df_load['Longitude'].cast(DoubleType()))\\\n",
    "    .withColumn('Depth', df_load['Depth'].cast(DoubleType()))\\\n",
    "    .withColumn('Magnitude', df_load['Magnitude'].cast(DoubleType()))\n",
    "\n",
    "# Preview df_load\n",
    "df_load.show(5)"
   ]
  },
  {
   "cell_type": "code",
   "execution_count": 9,
   "metadata": {},
   "outputs": [
    {
     "name": "stdout",
     "output_type": "stream",
     "text": [
      "root\n",
      " |-- Date: string (nullable = true)\n",
      " |-- Latitude: double (nullable = true)\n",
      " |-- Longitude: double (nullable = true)\n",
      " |-- Type: string (nullable = true)\n",
      " |-- Depth: double (nullable = true)\n",
      " |-- Magnitude: double (nullable = true)\n",
      " |-- Magnitude Type: string (nullable = true)\n",
      " |-- ID: string (nullable = true)\n",
      " |-- Year: integer (nullable = true)\n",
      "\n"
     ]
    }
   ],
   "source": [
    "# Preview df_load schema\n",
    "df_load.printSchema()"
   ]
  },
  {
   "cell_type": "code",
   "execution_count": 10,
   "metadata": {},
   "outputs": [],
   "source": [
    "# Create avg magnitude and max magnitude fields and add to df_quake_freq\n",
    "df_max = df_load.groupBy('Year').max('Magnitude').withColumnRenamed('max(Magnitude)', 'Max_Magnitude')\n",
    "df_avg = df_load.groupBy('Year').avg('Magnitude').withColumnRenamed('avg(Magnitude)', 'Avg_Magnitude')"
   ]
  },
  {
   "cell_type": "code",
   "execution_count": 11,
   "metadata": {},
   "outputs": [
    {
     "name": "stdout",
     "output_type": "stream",
     "text": [
      "+----+------+------------------+-------------+\n",
      "|Year|Counts|     Avg_Magnitude|Max_Magnitude|\n",
      "+----+------+------------------+-------------+\n",
      "|1965|   156| 6.009615384615388|          8.7|\n",
      "|1966|    98| 6.060714285714285|          7.7|\n",
      "|1967|   103|5.9621359223300985|          7.2|\n",
      "|1968|   106| 6.070754716981133|          7.6|\n",
      "|1969|   114| 6.015789473684214|          7.5|\n",
      "+----+------+------------------+-------------+\n",
      "only showing top 5 rows\n",
      "\n"
     ]
    }
   ],
   "source": [
    "# Join df_max, and df_avg to df_quake_freq\n",
    "df_quake_freq = df_quake_freq.join(df_avg, ['Year']).join(df_max, ['Year'])\n",
    "# Preview df_quake_freq\n",
    "df_quake_freq.show(5)"
   ]
  },
  {
   "cell_type": "code",
   "execution_count": 12,
   "metadata": {},
   "outputs": [
    {
     "data": {
      "text/plain": [
       "DataFrame[Year: int, Counts: bigint, Avg_Magnitude: double, Max_Magnitude: double]"
      ]
     },
     "execution_count": 12,
     "metadata": {},
     "output_type": "execute_result"
    }
   ],
   "source": [
    "# Remove nulls\n",
    "df_load.dropna()\n",
    "df_quake_freq.dropna()"
   ]
  },
  {
   "cell_type": "code",
   "execution_count": 13,
   "metadata": {},
   "outputs": [
    {
     "name": "stdout",
     "output_type": "stream",
     "text": [
      "+----------+--------+---------+----------+-----+---------+--------------+------------+----+\n",
      "|      Date|Latitude|Longitude|      Type|Depth|Magnitude|Magnitude Type|          ID|Year|\n",
      "+----------+--------+---------+----------+-----+---------+--------------+------------+----+\n",
      "|01/02/1965|  19.246|  145.616|Earthquake|131.6|      6.0|            MW|ISCGEM860706|1965|\n",
      "|01/04/1965|   1.863|  127.352|Earthquake| 80.0|      5.8|            MW|ISCGEM860737|1965|\n",
      "|01/05/1965| -20.579| -173.972|Earthquake| 20.0|      6.2|            MW|ISCGEM860762|1965|\n",
      "|01/08/1965| -59.076|  -23.557|Earthquake| 15.0|      5.8|            MW|ISCGEM860856|1965|\n",
      "|01/09/1965|  11.938|  126.427|Earthquake| 15.0|      5.8|            MW|ISCGEM860890|1965|\n",
      "+----------+--------+---------+----------+-----+---------+--------------+------------+----+\n",
      "only showing top 5 rows\n",
      "\n"
     ]
    }
   ],
   "source": [
    "# Preview dataframes\n",
    "df_load.show(5)"
   ]
  },
  {
   "cell_type": "code",
   "execution_count": 14,
   "metadata": {},
   "outputs": [
    {
     "name": "stdout",
     "output_type": "stream",
     "text": [
      "+----+------+------------------+-------------+\n",
      "|Year|Counts|     Avg_Magnitude|Max_Magnitude|\n",
      "+----+------+------------------+-------------+\n",
      "|1965|   156| 6.009615384615388|          8.7|\n",
      "|1966|    98| 6.060714285714285|          7.7|\n",
      "|1967|   103|5.9621359223300985|          7.2|\n",
      "|1968|   106| 6.070754716981133|          7.6|\n",
      "|1969|   114| 6.015789473684214|          7.5|\n",
      "+----+------+------------------+-------------+\n",
      "only showing top 5 rows\n",
      "\n"
     ]
    }
   ],
   "source": [
    "df_quake_freq.show(5)"
   ]
  },
  {
   "cell_type": "code",
   "execution_count": 15,
   "metadata": {},
   "outputs": [],
   "source": [
    "# Build the tables/collections in mongodb\n",
    "# Write df_load to mongodb\n",
    "df_load.write.format('mongo')\\\n",
    "    .mode('overwrite')\\\n",
    "    .option('spark.mongodb.output.uri', 'mongodb://127.0.0.1:27017/Quake.quakes').save()"
   ]
  },
  {
   "cell_type": "code",
   "execution_count": 16,
   "metadata": {},
   "outputs": [],
   "source": [
    "# Write df_quake_freq to mongodb\n",
    "df_quake_freq.write.format('mongo')\\\n",
    "    .mode('overwrite')\\\n",
    "    .option('spark.mongodb.output.uri', 'mongodb://127.0.0.1:27017/Quake.quake_freq').save()"
   ]
  },
  {
   "cell_type": "code",
   "execution_count": 17,
   "metadata": {},
   "outputs": [
    {
     "data": {
      "text/plain": [
       "'\\nSection: Machine Learning with Spark\\n'"
      ]
     },
     "execution_count": 17,
     "metadata": {},
     "output_type": "execute_result"
    }
   ],
   "source": [
    "\"\"\"\n",
    "Section: Machine Learning with Spark\n",
    "\"\"\""
   ]
  },
  {
   "cell_type": "code",
   "execution_count": 18,
   "metadata": {},
   "outputs": [
    {
     "data": {
      "text/plain": [
       "[Row(time='2017-01-02T00:13:06.300Z', latitude='-36.0365', longitude='51.9288', depth='10', mag='5.7', magType='mwb', nst=None, gap='26', dmin='14.685', rms='1.37', net='us', id='us10007p5d', updated='2017-03-27T23:53:17.040Z', place='Southwest Indian Ridge', type='earthquake', horizontalError='10.3', depthError='1.7', magError='0.068', magNst='21', status='reviewed', locationSource='us', magSource='us')]"
      ]
     },
     "execution_count": 18,
     "metadata": {},
     "output_type": "execute_result"
    }
   ],
   "source": [
    "# Load the test data file into a dataframe\n",
    "df_test = spark.read.csv(r\"C:\\Users\\Edwin\\Downloads\\query.csv\", header=True)\n",
    "# Preview df_test\n",
    "df_test.take(1)"
   ]
  },
  {
   "cell_type": "code",
   "execution_count": 19,
   "metadata": {},
   "outputs": [
    {
     "name": "stdout",
     "output_type": "stream",
     "text": [
      "+----------+-----+------------+--------+---------+---------+--------------+----------+----+--------------------+\n",
      "|      Date|Depth|          ID|Latitude|Longitude|Magnitude|Magnitude Type|      Type|Year|                 _id|\n",
      "+----------+-----+------------+--------+---------+---------+--------------+----------+----+--------------------+\n",
      "|01/02/1965|131.6|ISCGEM860706|  19.246|  145.616|      6.0|            MW|Earthquake|1965|[5e40176d4e15a613...|\n",
      "|01/04/1965| 80.0|ISCGEM860737|   1.863|  127.352|      5.8|            MW|Earthquake|1965|[5e40176d4e15a613...|\n",
      "|01/05/1965| 20.0|ISCGEM860762| -20.579| -173.972|      6.2|            MW|Earthquake|1965|[5e40176d4e15a613...|\n",
      "|01/08/1965| 15.0|ISCGEM860856| -59.076|  -23.557|      5.8|            MW|Earthquake|1965|[5e40176d4e15a613...|\n",
      "|01/09/1965| 15.0|ISCGEM860890|  11.938|  126.427|      5.8|            MW|Earthquake|1965|[5e40176d4e15a613...|\n",
      "+----------+-----+------------+--------+---------+---------+--------------+----------+----+--------------------+\n",
      "only showing top 5 rows\n",
      "\n"
     ]
    }
   ],
   "source": [
    "# Load the training data from mongo into a dataframe\n",
    "df_train = spark.read.format('mongo')\\\n",
    "    .option('spark.mongodb.input.uri', 'mongodb://127.0.0.1:27017/Quake.quakes').load()\n",
    "\n",
    "# Preview df_train\n",
    "df_train.show(5)"
   ]
  },
  {
   "cell_type": "code",
   "execution_count": 20,
   "metadata": {},
   "outputs": [
    {
     "name": "stdout",
     "output_type": "stream",
     "text": [
      "+--------------------+--------+---------+---+------+\n",
      "|                time|latitude|longitude|mag| depth|\n",
      "+--------------------+--------+---------+---+------+\n",
      "|2017-01-02T00:13:...|-36.0365|  51.9288|5.7|    10|\n",
      "|2017-01-02T13:13:...|  -4.895| -76.3675|5.9|   106|\n",
      "|2017-01-02T13:14:...|-23.2513| 179.2383|6.3|551.62|\n",
      "|2017-01-03T09:09:...| 24.0151|  92.0177|5.7|    32|\n",
      "|2017-01-03T21:19:...|-43.3527| -74.5017|5.5| 10.26|\n",
      "+--------------------+--------+---------+---+------+\n",
      "only showing top 5 rows\n",
      "\n"
     ]
    }
   ],
   "source": [
    "# Select fields we will use and discard fields we don't need\n",
    "df_test_clean = df_test['time', 'latitude', 'longitude', 'mag', 'depth']\n",
    "# Preview df_test_clean\n",
    "df_test_clean.show(5)"
   ]
  },
  {
   "cell_type": "code",
   "execution_count": 21,
   "metadata": {},
   "outputs": [
    {
     "name": "stdout",
     "output_type": "stream",
     "text": [
      "+--------------------+--------+---------+---------+------+\n",
      "|                Date|Latitude|Longitude|Magnitude| Depth|\n",
      "+--------------------+--------+---------+---------+------+\n",
      "|2017-01-02T00:13:...|-36.0365|  51.9288|      5.7|    10|\n",
      "|2017-01-02T13:13:...|  -4.895| -76.3675|      5.9|   106|\n",
      "|2017-01-02T13:14:...|-23.2513| 179.2383|      6.3|551.62|\n",
      "|2017-01-03T09:09:...| 24.0151|  92.0177|      5.7|    32|\n",
      "|2017-01-03T21:19:...|-43.3527| -74.5017|      5.5| 10.26|\n",
      "+--------------------+--------+---------+---------+------+\n",
      "only showing top 5 rows\n",
      "\n"
     ]
    }
   ],
   "source": [
    "# Rename fields\n",
    "df_test_clean = df_test_clean.withColumnRenamed('time', 'Date')\\\n",
    "    .withColumnRenamed('latitude', 'Latitude')\\\n",
    "    .withColumnRenamed('longitude', 'Longitude')\\\n",
    "    .withColumnRenamed('mag', 'Magnitude')\\\n",
    "    .withColumnRenamed('depth', 'Depth')\n",
    "\n",
    "# Preview df_test_clean\n",
    "df_test_clean.show(5)"
   ]
  },
  {
   "cell_type": "code",
   "execution_count": 22,
   "metadata": {},
   "outputs": [
    {
     "name": "stdout",
     "output_type": "stream",
     "text": [
      "root\n",
      " |-- Date: string (nullable = true)\n",
      " |-- Latitude: string (nullable = true)\n",
      " |-- Longitude: string (nullable = true)\n",
      " |-- Magnitude: string (nullable = true)\n",
      " |-- Depth: string (nullable = true)\n",
      "\n"
     ]
    }
   ],
   "source": [
    "# Preview Schema\n",
    "df_test_clean.printSchema()"
   ]
  },
  {
   "cell_type": "code",
   "execution_count": 23,
   "metadata": {},
   "outputs": [],
   "source": [
    "# Cast some string fields into numeric fields\n",
    "df_test_clean = df_test_clean.withColumn('Latitude', df_test_clean['Latitude'].cast(DoubleType()))\\\n",
    "    .withColumn('Longitude', df_test_clean['Longitude'].cast(DoubleType()))\\\n",
    "    .withColumn('Depth', df_test_clean['Depth'].cast(DoubleType()))\\\n",
    "    .withColumn('Magnitude', df_test_clean['Magnitude'].cast(DoubleType()))"
   ]
  },
  {
   "cell_type": "code",
   "execution_count": 24,
   "metadata": {},
   "outputs": [
    {
     "name": "stdout",
     "output_type": "stream",
     "text": [
      "root\n",
      " |-- Date: string (nullable = true)\n",
      " |-- Latitude: double (nullable = true)\n",
      " |-- Longitude: double (nullable = true)\n",
      " |-- Magnitude: double (nullable = true)\n",
      " |-- Depth: double (nullable = true)\n",
      "\n"
     ]
    }
   ],
   "source": [
    "df_test_clean.printSchema()"
   ]
  },
  {
   "cell_type": "code",
   "execution_count": 25,
   "metadata": {},
   "outputs": [],
   "source": [
    "# Create training and testing dataframes\n",
    "df_testing = df_test_clean['Latitude', 'Longitude', 'Magnitude', 'Depth']\n",
    "df_training = df_train['Latitude', 'Longitude', 'Magnitude', 'Depth']"
   ]
  },
  {
   "cell_type": "code",
   "execution_count": 26,
   "metadata": {},
   "outputs": [
    {
     "name": "stdout",
     "output_type": "stream",
     "text": [
      "+--------+---------+---------+-----+\n",
      "|Latitude|Longitude|Magnitude|Depth|\n",
      "+--------+---------+---------+-----+\n",
      "|  19.246|  145.616|      6.0|131.6|\n",
      "|   1.863|  127.352|      5.8| 80.0|\n",
      "| -20.579| -173.972|      6.2| 20.0|\n",
      "| -59.076|  -23.557|      5.8| 15.0|\n",
      "|  11.938|  126.427|      5.8| 15.0|\n",
      "+--------+---------+---------+-----+\n",
      "only showing top 5 rows\n",
      "\n"
     ]
    }
   ],
   "source": [
    "# Preview df_training\n",
    "df_training.show(5)"
   ]
  },
  {
   "cell_type": "code",
   "execution_count": 27,
   "metadata": {},
   "outputs": [
    {
     "name": "stdout",
     "output_type": "stream",
     "text": [
      "+--------+---------+---------+------+\n",
      "|Latitude|Longitude|Magnitude| Depth|\n",
      "+--------+---------+---------+------+\n",
      "|-36.0365|  51.9288|      5.7|  10.0|\n",
      "|  -4.895| -76.3675|      5.9| 106.0|\n",
      "|-23.2513| 179.2383|      6.3|551.62|\n",
      "| 24.0151|  92.0177|      5.7|  32.0|\n",
      "|-43.3527| -74.5017|      5.5| 10.26|\n",
      "+--------+---------+---------+------+\n",
      "only showing top 5 rows\n",
      "\n"
     ]
    }
   ],
   "source": [
    "# Preview df_testing\n",
    "df_testing.show(5)"
   ]
  },
  {
   "cell_type": "code",
   "execution_count": 28,
   "metadata": {},
   "outputs": [],
   "source": [
    "# Drop records with null values from our dataframes\n",
    "df_testing = df_testing.dropna()\n",
    "df_training = df_training.dropna()"
   ]
  },
  {
   "cell_type": "code",
   "execution_count": 29,
   "metadata": {},
   "outputs": [],
   "source": [
    "from pyspark.ml import Pipeline\n",
    "from pyspark.ml.regression import RandomForestRegressor\n",
    "from pyspark.ml.feature import VectorAssembler\n",
    "from pyspark.ml.evaluation import RegressionEvaluator"
   ]
  },
  {
   "cell_type": "code",
   "execution_count": 30,
   "metadata": {},
   "outputs": [],
   "source": [
    "# Select features to parse into our model and then create the feature vector\n",
    "assembler = VectorAssembler(inputCols=['Latitude', 'Longitude', 'Depth'], outputCol='features')\n",
    "\n",
    "# Create the Model\n",
    "model_reg = RandomForestRegressor(featuresCol='features', labelCol='Magnitude')\n",
    "\n",
    "# Chain the assembler with the model in a pipeline\n",
    "pipeline = Pipeline(stages=[assembler, model_reg])\n",
    "\n",
    "# Train the Model\n",
    "model = pipeline.fit(df_training)\n",
    "\n",
    "# Make the prediction\n",
    "pred_results = model.transform(df_testing)"
   ]
  },
  {
   "cell_type": "code",
   "execution_count": 31,
   "metadata": {},
   "outputs": [
    {
     "name": "stdout",
     "output_type": "stream",
     "text": [
      "+--------+---------+---------+------+--------------------+-----------------+\n",
      "|Latitude|Longitude|Magnitude| Depth|            features|       prediction|\n",
      "+--------+---------+---------+------+--------------------+-----------------+\n",
      "|-36.0365|  51.9288|      5.7|  10.0|[-36.0365,51.9288...|5.843170216800219|\n",
      "|  -4.895| -76.3675|      5.9| 106.0|[-4.895,-76.3675,...|5.857753269910164|\n",
      "|-23.2513| 179.2383|      6.3|551.62|[-23.2513,179.238...|5.903879708543907|\n",
      "| 24.0151|  92.0177|      5.7|  32.0|[24.0151,92.0177,...|5.928559166925568|\n",
      "|-43.3527| -74.5017|      5.5| 10.26|[-43.3527,-74.501...|5.918127389861314|\n",
      "+--------+---------+---------+------+--------------------+-----------------+\n",
      "only showing top 5 rows\n",
      "\n"
     ]
    }
   ],
   "source": [
    "# Preview pred_results dataframe\n",
    "pred_results.show(5)"
   ]
  },
  {
   "cell_type": "code",
   "execution_count": 32,
   "metadata": {},
   "outputs": [
    {
     "name": "stdout",
     "output_type": "stream",
     "text": [
      "Root Mean Squared Error (RMSE) on test data = 0.402558\n"
     ]
    }
   ],
   "source": [
    "# Evaluate the model\n",
    "# rmse should be less than 0.5 for the model to be useful\n",
    "evaluator = RegressionEvaluator(labelCol='Magnitude', predictionCol='prediction', metricName='rmse')\n",
    "rmse = evaluator.evaluate(pred_results)\n",
    "print('Root Mean Squared Error (RMSE) on test data = %g' % rmse)"
   ]
  },
  {
   "cell_type": "code",
   "execution_count": 33,
   "metadata": {},
   "outputs": [
    {
     "data": {
      "text/plain": [
       "'\\nCreate the prediction dataset\\n'"
      ]
     },
     "execution_count": 33,
     "metadata": {},
     "output_type": "execute_result"
    }
   ],
   "source": [
    "\"\"\"\n",
    "Create the prediction dataset\n",
    "\"\"\""
   ]
  },
  {
   "cell_type": "code",
   "execution_count": 34,
   "metadata": {},
   "outputs": [
    {
     "name": "stdout",
     "output_type": "stream",
     "text": [
      "+--------+---------+-----------------+----+-------------------+\n",
      "|Latitude|Longitude|   Pred_Magnitude|Year|               RMSE|\n",
      "+--------+---------+-----------------+----+-------------------+\n",
      "|-36.0365|  51.9288|5.843170216800219|2017|0.40255793832136677|\n",
      "|  -4.895| -76.3675|5.857753269910164|2017|0.40255793832136677|\n",
      "|-23.2513| 179.2383|5.903879708543907|2017|0.40255793832136677|\n",
      "| 24.0151|  92.0177|5.928559166925568|2017|0.40255793832136677|\n",
      "|-43.3527| -74.5017|5.918127389861314|2017|0.40255793832136677|\n",
      "+--------+---------+-----------------+----+-------------------+\n",
      "only showing top 5 rows\n",
      "\n"
     ]
    }
   ],
   "source": [
    "# Create the prediction dataset\n",
    "df_pred_results = pred_results['Latitude', 'Longitude', 'prediction']\n",
    "\n",
    "# Rename the prediction field\n",
    "df_pred_results = df_pred_results.withColumnRenamed('prediction', 'Pred_Magnitude')\n",
    "\n",
    "# Add more columns to our prediction dataset\n",
    "df_pred_results = df_pred_results.withColumn('Year', lit(2017))\\\n",
    "    .withColumn('RMSE', lit(rmse))\n",
    "\n",
    "# Preview df_pred_results\n",
    "df_pred_results.show(5)"
   ]
  },
  {
   "cell_type": "code",
   "execution_count": 35,
   "metadata": {},
   "outputs": [],
   "source": [
    "# Load the prediction dataset into mongodb\n",
    "# Write df_pred_results\n",
    "df_pred_results.write.format('mongo')\\\n",
    "    .mode('overwrite')\\\n",
    "    .option('spark.mongodb.output.uri', 'mongodb://127.0.0.1:27017/Quake.pred_results').save()"
   ]
  },
  {
   "cell_type": "code",
   "execution_count": 36,
   "metadata": {},
   "outputs": [
    {
     "data": {
      "text/plain": [
       "'\\nSection: Data visulization\\n'"
      ]
     },
     "execution_count": 36,
     "metadata": {},
     "output_type": "execute_result"
    }
   ],
   "source": [
    "\"\"\"\n",
    "Section: Data visulization\n",
    "\"\"\""
   ]
  },
  {
   "cell_type": "code",
   "execution_count": 19,
   "metadata": {},
   "outputs": [],
   "source": [
    "import pandas as pd\n",
    "from bokeh.io import output_notebook, output_file\n",
    "from bokeh.plotting import figure, show, ColumnDataSource\n",
    "from bokeh.models.tools import HoverTool\n",
    "import math\n",
    "from math import pi\n",
    "from bokeh.palettes import Category20c\n",
    "from bokeh.transform import cumsum\n",
    "from bokeh.tile_providers import CARTODBPOSITRON\n",
    "from bokeh.themes import built_in_themes\n",
    "from bokeh.io import curdoc\n",
    "from pymongo import MongoClient"
   ]
  },
  {
   "cell_type": "code",
   "execution_count": 20,
   "metadata": {},
   "outputs": [],
   "source": [
    "# Create a custom read function to read data from mongodb into a dataframe\n",
    "def read_mongo(host='127.0.0.1', port=27017, username=None, password=None, db='Quake', collection='pred_results'):\n",
    "    \n",
    "    mongo_uri = 'mongodb://{}:{}/{}.{}'.format(host, port, db, collection)\n",
    "    \n",
    "    # Connect to mongodb\n",
    "    conn = MongoClient(mongo_uri)\n",
    "    db = conn[db]\n",
    "    \n",
    "    # Select all records from the collection\n",
    "    cursor = db[collection].find()\n",
    "    \n",
    "    # Create the dataframe\n",
    "    df = pd.DataFrame(list(cursor))\n",
    "    \n",
    "    # Delete the _id field\n",
    "    del df['_id']\n",
    "    \n",
    "    return df\n"
   ]
  },
  {
   "cell_type": "code",
   "execution_count": 21,
   "metadata": {},
   "outputs": [],
   "source": [
    "# Load the datasets from mongodb\n",
    "df_quakes = read_mongo(collection='quakes')\n",
    "df_quake_freq = read_mongo(collection='quake_freq')\n",
    "df_quake_pred = read_mongo(collection='pred_results')"
   ]
  },
  {
   "cell_type": "code",
   "execution_count": 22,
   "metadata": {},
   "outputs": [
    {
     "data": {
      "text/html": [
       "<div>\n",
       "<style scoped>\n",
       "    .dataframe tbody tr th:only-of-type {\n",
       "        vertical-align: middle;\n",
       "    }\n",
       "\n",
       "    .dataframe tbody tr th {\n",
       "        vertical-align: top;\n",
       "    }\n",
       "\n",
       "    .dataframe thead th {\n",
       "        text-align: right;\n",
       "    }\n",
       "</style>\n",
       "<table border=\"1\" class=\"dataframe\">\n",
       "  <thead>\n",
       "    <tr style=\"text-align: right;\">\n",
       "      <th></th>\n",
       "      <th>Date</th>\n",
       "      <th>Depth</th>\n",
       "      <th>ID</th>\n",
       "      <th>Latitude</th>\n",
       "      <th>Longitude</th>\n",
       "      <th>Magnitude</th>\n",
       "      <th>Magnitude Type</th>\n",
       "      <th>Type</th>\n",
       "      <th>Year</th>\n",
       "    </tr>\n",
       "  </thead>\n",
       "  <tbody>\n",
       "    <tr>\n",
       "      <th>22943</th>\n",
       "      <td>01/01/2016</td>\n",
       "      <td>10.00</td>\n",
       "      <td>US10004ANT</td>\n",
       "      <td>-50.5575</td>\n",
       "      <td>139.4489</td>\n",
       "      <td>6.3</td>\n",
       "      <td>MWW</td>\n",
       "      <td>Earthquake</td>\n",
       "      <td>2016.0</td>\n",
       "    </tr>\n",
       "    <tr>\n",
       "      <th>22944</th>\n",
       "      <td>01/01/2016</td>\n",
       "      <td>34.00</td>\n",
       "      <td>US10004AQY</td>\n",
       "      <td>-28.6278</td>\n",
       "      <td>-177.2810</td>\n",
       "      <td>5.8</td>\n",
       "      <td>MWW</td>\n",
       "      <td>Earthquake</td>\n",
       "      <td>2016.0</td>\n",
       "    </tr>\n",
       "    <tr>\n",
       "      <th>22945</th>\n",
       "      <td>01/02/2016</td>\n",
       "      <td>585.47</td>\n",
       "      <td>US10004ATB</td>\n",
       "      <td>44.8069</td>\n",
       "      <td>129.9406</td>\n",
       "      <td>5.8</td>\n",
       "      <td>MWW</td>\n",
       "      <td>Earthquake</td>\n",
       "      <td>2016.0</td>\n",
       "    </tr>\n",
       "    <tr>\n",
       "      <th>22946</th>\n",
       "      <td>01/03/2016</td>\n",
       "      <td>55.00</td>\n",
       "      <td>US10004B2N</td>\n",
       "      <td>24.8036</td>\n",
       "      <td>93.6505</td>\n",
       "      <td>6.7</td>\n",
       "      <td>MWW</td>\n",
       "      <td>Earthquake</td>\n",
       "      <td>2016.0</td>\n",
       "    </tr>\n",
       "    <tr>\n",
       "      <th>22947</th>\n",
       "      <td>01/05/2016</td>\n",
       "      <td>4.71</td>\n",
       "      <td>US10004BEN</td>\n",
       "      <td>30.6132</td>\n",
       "      <td>132.7337</td>\n",
       "      <td>5.8</td>\n",
       "      <td>MWW</td>\n",
       "      <td>Earthquake</td>\n",
       "      <td>2016.0</td>\n",
       "    </tr>\n",
       "  </tbody>\n",
       "</table>\n",
       "</div>"
      ],
      "text/plain": [
       "             Date   Depth          ID  Latitude  Longitude  Magnitude  \\\n",
       "22943  01/01/2016   10.00  US10004ANT  -50.5575   139.4489        6.3   \n",
       "22944  01/01/2016   34.00  US10004AQY  -28.6278  -177.2810        5.8   \n",
       "22945  01/02/2016  585.47  US10004ATB   44.8069   129.9406        5.8   \n",
       "22946  01/03/2016   55.00  US10004B2N   24.8036    93.6505        6.7   \n",
       "22947  01/05/2016    4.71  US10004BEN   30.6132   132.7337        5.8   \n",
       "\n",
       "      Magnitude Type        Type    Year  \n",
       "22943            MWW  Earthquake  2016.0  \n",
       "22944            MWW  Earthquake  2016.0  \n",
       "22945            MWW  Earthquake  2016.0  \n",
       "22946            MWW  Earthquake  2016.0  \n",
       "22947            MWW  Earthquake  2016.0  "
      ]
     },
     "execution_count": 22,
     "metadata": {},
     "output_type": "execute_result"
    }
   ],
   "source": [
    "df_quakes_2016 = df_quakes[df_quakes['Year'] == 2016]\n",
    "# Preview df_quakes_2016\n",
    "df_quakes_2016.head()"
   ]
  },
  {
   "cell_type": "code",
   "execution_count": 5,
   "metadata": {},
   "outputs": [
    {
     "data": {
      "text/html": [
       "\n",
       "    <div class=\"bk-root\">\n",
       "        <a href=\"https://bokeh.pydata.org\" target=\"_blank\" class=\"bk-logo bk-logo-small bk-logo-notebook\"></a>\n",
       "        <span id=\"1002\">Loading BokehJS ...</span>\n",
       "    </div>"
      ]
     },
     "metadata": {},
     "output_type": "display_data"
    },
    {
     "data": {
      "application/javascript": [
       "\n",
       "(function(root) {\n",
       "  function now() {\n",
       "    return new Date();\n",
       "  }\n",
       "\n",
       "  var force = true;\n",
       "\n",
       "  if (typeof (root._bokeh_onload_callbacks) === \"undefined\" || force === true) {\n",
       "    root._bokeh_onload_callbacks = [];\n",
       "    root._bokeh_is_loading = undefined;\n",
       "  }\n",
       "\n",
       "  var JS_MIME_TYPE = 'application/javascript';\n",
       "  var HTML_MIME_TYPE = 'text/html';\n",
       "  var EXEC_MIME_TYPE = 'application/vnd.bokehjs_exec.v0+json';\n",
       "  var CLASS_NAME = 'output_bokeh rendered_html';\n",
       "\n",
       "  /**\n",
       "   * Render data to the DOM node\n",
       "   */\n",
       "  function render(props, node) {\n",
       "    var script = document.createElement(\"script\");\n",
       "    node.appendChild(script);\n",
       "  }\n",
       "\n",
       "  /**\n",
       "   * Handle when an output is cleared or removed\n",
       "   */\n",
       "  function handleClearOutput(event, handle) {\n",
       "    var cell = handle.cell;\n",
       "\n",
       "    var id = cell.output_area._bokeh_element_id;\n",
       "    var server_id = cell.output_area._bokeh_server_id;\n",
       "    // Clean up Bokeh references\n",
       "    if (id != null && id in Bokeh.index) {\n",
       "      Bokeh.index[id].model.document.clear();\n",
       "      delete Bokeh.index[id];\n",
       "    }\n",
       "\n",
       "    if (server_id !== undefined) {\n",
       "      // Clean up Bokeh references\n",
       "      var cmd = \"from bokeh.io.state import curstate; print(curstate().uuid_to_server['\" + server_id + \"'].get_sessions()[0].document.roots[0]._id)\";\n",
       "      cell.notebook.kernel.execute(cmd, {\n",
       "        iopub: {\n",
       "          output: function(msg) {\n",
       "            var id = msg.content.text.trim();\n",
       "            if (id in Bokeh.index) {\n",
       "              Bokeh.index[id].model.document.clear();\n",
       "              delete Bokeh.index[id];\n",
       "            }\n",
       "          }\n",
       "        }\n",
       "      });\n",
       "      // Destroy server and session\n",
       "      var cmd = \"import bokeh.io.notebook as ion; ion.destroy_server('\" + server_id + \"')\";\n",
       "      cell.notebook.kernel.execute(cmd);\n",
       "    }\n",
       "  }\n",
       "\n",
       "  /**\n",
       "   * Handle when a new output is added\n",
       "   */\n",
       "  function handleAddOutput(event, handle) {\n",
       "    var output_area = handle.output_area;\n",
       "    var output = handle.output;\n",
       "\n",
       "    // limit handleAddOutput to display_data with EXEC_MIME_TYPE content only\n",
       "    if ((output.output_type != \"display_data\") || (!output.data.hasOwnProperty(EXEC_MIME_TYPE))) {\n",
       "      return\n",
       "    }\n",
       "\n",
       "    var toinsert = output_area.element.find(\".\" + CLASS_NAME.split(' ')[0]);\n",
       "\n",
       "    if (output.metadata[EXEC_MIME_TYPE][\"id\"] !== undefined) {\n",
       "      toinsert[toinsert.length - 1].firstChild.textContent = output.data[JS_MIME_TYPE];\n",
       "      // store reference to embed id on output_area\n",
       "      output_area._bokeh_element_id = output.metadata[EXEC_MIME_TYPE][\"id\"];\n",
       "    }\n",
       "    if (output.metadata[EXEC_MIME_TYPE][\"server_id\"] !== undefined) {\n",
       "      var bk_div = document.createElement(\"div\");\n",
       "      bk_div.innerHTML = output.data[HTML_MIME_TYPE];\n",
       "      var script_attrs = bk_div.children[0].attributes;\n",
       "      for (var i = 0; i < script_attrs.length; i++) {\n",
       "        toinsert[toinsert.length - 1].firstChild.setAttribute(script_attrs[i].name, script_attrs[i].value);\n",
       "      }\n",
       "      // store reference to server id on output_area\n",
       "      output_area._bokeh_server_id = output.metadata[EXEC_MIME_TYPE][\"server_id\"];\n",
       "    }\n",
       "  }\n",
       "\n",
       "  function register_renderer(events, OutputArea) {\n",
       "\n",
       "    function append_mime(data, metadata, element) {\n",
       "      // create a DOM node to render to\n",
       "      var toinsert = this.create_output_subarea(\n",
       "        metadata,\n",
       "        CLASS_NAME,\n",
       "        EXEC_MIME_TYPE\n",
       "      );\n",
       "      this.keyboard_manager.register_events(toinsert);\n",
       "      // Render to node\n",
       "      var props = {data: data, metadata: metadata[EXEC_MIME_TYPE]};\n",
       "      render(props, toinsert[toinsert.length - 1]);\n",
       "      element.append(toinsert);\n",
       "      return toinsert\n",
       "    }\n",
       "\n",
       "    /* Handle when an output is cleared or removed */\n",
       "    events.on('clear_output.CodeCell', handleClearOutput);\n",
       "    events.on('delete.Cell', handleClearOutput);\n",
       "\n",
       "    /* Handle when a new output is added */\n",
       "    events.on('output_added.OutputArea', handleAddOutput);\n",
       "\n",
       "    /**\n",
       "     * Register the mime type and append_mime function with output_area\n",
       "     */\n",
       "    OutputArea.prototype.register_mime_type(EXEC_MIME_TYPE, append_mime, {\n",
       "      /* Is output safe? */\n",
       "      safe: true,\n",
       "      /* Index of renderer in `output_area.display_order` */\n",
       "      index: 0\n",
       "    });\n",
       "  }\n",
       "\n",
       "  // register the mime type if in Jupyter Notebook environment and previously unregistered\n",
       "  if (root.Jupyter !== undefined) {\n",
       "    var events = require('base/js/events');\n",
       "    var OutputArea = require('notebook/js/outputarea').OutputArea;\n",
       "\n",
       "    if (OutputArea.prototype.mime_types().indexOf(EXEC_MIME_TYPE) == -1) {\n",
       "      register_renderer(events, OutputArea);\n",
       "    }\n",
       "  }\n",
       "\n",
       "  \n",
       "  if (typeof (root._bokeh_timeout) === \"undefined\" || force === true) {\n",
       "    root._bokeh_timeout = Date.now() + 5000;\n",
       "    root._bokeh_failed_load = false;\n",
       "  }\n",
       "\n",
       "  var NB_LOAD_WARNING = {'data': {'text/html':\n",
       "     \"<div style='background-color: #fdd'>\\n\"+\n",
       "     \"<p>\\n\"+\n",
       "     \"BokehJS does not appear to have successfully loaded. If loading BokehJS from CDN, this \\n\"+\n",
       "     \"may be due to a slow or bad network connection. Possible fixes:\\n\"+\n",
       "     \"</p>\\n\"+\n",
       "     \"<ul>\\n\"+\n",
       "     \"<li>re-rerun `output_notebook()` to attempt to load from CDN again, or</li>\\n\"+\n",
       "     \"<li>use INLINE resources instead, as so:</li>\\n\"+\n",
       "     \"</ul>\\n\"+\n",
       "     \"<code>\\n\"+\n",
       "     \"from bokeh.resources import INLINE\\n\"+\n",
       "     \"output_notebook(resources=INLINE)\\n\"+\n",
       "     \"</code>\\n\"+\n",
       "     \"</div>\"}};\n",
       "\n",
       "  function display_loaded() {\n",
       "    var el = document.getElementById(\"1002\");\n",
       "    if (el != null) {\n",
       "      el.textContent = \"BokehJS is loading...\";\n",
       "    }\n",
       "    if (root.Bokeh !== undefined) {\n",
       "      if (el != null) {\n",
       "        el.textContent = \"BokehJS \" + root.Bokeh.version + \" successfully loaded.\";\n",
       "      }\n",
       "    } else if (Date.now() < root._bokeh_timeout) {\n",
       "      setTimeout(display_loaded, 100)\n",
       "    }\n",
       "  }\n",
       "\n",
       "\n",
       "  function run_callbacks() {\n",
       "    try {\n",
       "      root._bokeh_onload_callbacks.forEach(function(callback) { callback() });\n",
       "    }\n",
       "    finally {\n",
       "      delete root._bokeh_onload_callbacks\n",
       "    }\n",
       "    console.info(\"Bokeh: all callbacks have finished\");\n",
       "  }\n",
       "\n",
       "  function load_libs(js_urls, callback) {\n",
       "    root._bokeh_onload_callbacks.push(callback);\n",
       "    if (root._bokeh_is_loading > 0) {\n",
       "      console.log(\"Bokeh: BokehJS is being loaded, scheduling callback at\", now());\n",
       "      return null;\n",
       "    }\n",
       "    if (js_urls == null || js_urls.length === 0) {\n",
       "      run_callbacks();\n",
       "      return null;\n",
       "    }\n",
       "    console.log(\"Bokeh: BokehJS not loaded, scheduling load and callback at\", now());\n",
       "    root._bokeh_is_loading = js_urls.length;\n",
       "    for (var i = 0; i < js_urls.length; i++) {\n",
       "      var url = js_urls[i];\n",
       "      var s = document.createElement('script');\n",
       "      s.src = url;\n",
       "      s.async = false;\n",
       "      s.onreadystatechange = s.onload = function() {\n",
       "        root._bokeh_is_loading--;\n",
       "        if (root._bokeh_is_loading === 0) {\n",
       "          console.log(\"Bokeh: all BokehJS libraries loaded\");\n",
       "          run_callbacks()\n",
       "        }\n",
       "      };\n",
       "      s.onerror = function() {\n",
       "        console.warn(\"failed to load library \" + url);\n",
       "      };\n",
       "      console.log(\"Bokeh: injecting script tag for BokehJS library: \", url);\n",
       "      document.getElementsByTagName(\"head\")[0].appendChild(s);\n",
       "    }\n",
       "  };var element = document.getElementById(\"1002\");\n",
       "  if (element == null) {\n",
       "    console.log(\"Bokeh: ERROR: autoload.js configured with elementid '1002' but no matching script tag was found. \")\n",
       "    return false;\n",
       "  }\n",
       "\n",
       "  var js_urls = [\"https://cdn.pydata.org/bokeh/release/bokeh-1.0.2.min.js\", \"https://cdn.pydata.org/bokeh/release/bokeh-widgets-1.0.2.min.js\", \"https://cdn.pydata.org/bokeh/release/bokeh-tables-1.0.2.min.js\", \"https://cdn.pydata.org/bokeh/release/bokeh-gl-1.0.2.min.js\"];\n",
       "\n",
       "  var inline_js = [\n",
       "    function(Bokeh) {\n",
       "      Bokeh.set_log_level(\"info\");\n",
       "    },\n",
       "    \n",
       "    function(Bokeh) {\n",
       "      \n",
       "    },\n",
       "    function(Bokeh) {\n",
       "      console.log(\"Bokeh: injecting CSS: https://cdn.pydata.org/bokeh/release/bokeh-1.0.2.min.css\");\n",
       "      Bokeh.embed.inject_css(\"https://cdn.pydata.org/bokeh/release/bokeh-1.0.2.min.css\");\n",
       "      console.log(\"Bokeh: injecting CSS: https://cdn.pydata.org/bokeh/release/bokeh-widgets-1.0.2.min.css\");\n",
       "      Bokeh.embed.inject_css(\"https://cdn.pydata.org/bokeh/release/bokeh-widgets-1.0.2.min.css\");\n",
       "      console.log(\"Bokeh: injecting CSS: https://cdn.pydata.org/bokeh/release/bokeh-tables-1.0.2.min.css\");\n",
       "      Bokeh.embed.inject_css(\"https://cdn.pydata.org/bokeh/release/bokeh-tables-1.0.2.min.css\");\n",
       "    }\n",
       "  ];\n",
       "\n",
       "  function run_inline_js() {\n",
       "    \n",
       "    if ((root.Bokeh !== undefined) || (force === true)) {\n",
       "      for (var i = 0; i < inline_js.length; i++) {\n",
       "        inline_js[i].call(root, root.Bokeh);\n",
       "      }if (force === true) {\n",
       "        display_loaded();\n",
       "      }} else if (Date.now() < root._bokeh_timeout) {\n",
       "      setTimeout(run_inline_js, 100);\n",
       "    } else if (!root._bokeh_failed_load) {\n",
       "      console.log(\"Bokeh: BokehJS failed to load within specified timeout.\");\n",
       "      root._bokeh_failed_load = true;\n",
       "    } else if (force !== true) {\n",
       "      var cell = $(document.getElementById(\"1002\")).parents('.cell').data().cell;\n",
       "      cell.output_area.append_execute_result(NB_LOAD_WARNING)\n",
       "    }\n",
       "\n",
       "  }\n",
       "\n",
       "  if (root._bokeh_is_loading === 0) {\n",
       "    console.log(\"Bokeh: BokehJS loaded, going straight to plotting\");\n",
       "    run_inline_js();\n",
       "  } else {\n",
       "    load_libs(js_urls, function() {\n",
       "      console.log(\"Bokeh: BokehJS plotting callback run at\", now());\n",
       "      run_inline_js();\n",
       "    });\n",
       "  }\n",
       "}(window));"
      ],
      "application/vnd.bokehjs_load.v0+json": "\n(function(root) {\n  function now() {\n    return new Date();\n  }\n\n  var force = true;\n\n  if (typeof (root._bokeh_onload_callbacks) === \"undefined\" || force === true) {\n    root._bokeh_onload_callbacks = [];\n    root._bokeh_is_loading = undefined;\n  }\n\n  \n\n  \n  if (typeof (root._bokeh_timeout) === \"undefined\" || force === true) {\n    root._bokeh_timeout = Date.now() + 5000;\n    root._bokeh_failed_load = false;\n  }\n\n  var NB_LOAD_WARNING = {'data': {'text/html':\n     \"<div style='background-color: #fdd'>\\n\"+\n     \"<p>\\n\"+\n     \"BokehJS does not appear to have successfully loaded. If loading BokehJS from CDN, this \\n\"+\n     \"may be due to a slow or bad network connection. Possible fixes:\\n\"+\n     \"</p>\\n\"+\n     \"<ul>\\n\"+\n     \"<li>re-rerun `output_notebook()` to attempt to load from CDN again, or</li>\\n\"+\n     \"<li>use INLINE resources instead, as so:</li>\\n\"+\n     \"</ul>\\n\"+\n     \"<code>\\n\"+\n     \"from bokeh.resources import INLINE\\n\"+\n     \"output_notebook(resources=INLINE)\\n\"+\n     \"</code>\\n\"+\n     \"</div>\"}};\n\n  function display_loaded() {\n    var el = document.getElementById(\"1002\");\n    if (el != null) {\n      el.textContent = \"BokehJS is loading...\";\n    }\n    if (root.Bokeh !== undefined) {\n      if (el != null) {\n        el.textContent = \"BokehJS \" + root.Bokeh.version + \" successfully loaded.\";\n      }\n    } else if (Date.now() < root._bokeh_timeout) {\n      setTimeout(display_loaded, 100)\n    }\n  }\n\n\n  function run_callbacks() {\n    try {\n      root._bokeh_onload_callbacks.forEach(function(callback) { callback() });\n    }\n    finally {\n      delete root._bokeh_onload_callbacks\n    }\n    console.info(\"Bokeh: all callbacks have finished\");\n  }\n\n  function load_libs(js_urls, callback) {\n    root._bokeh_onload_callbacks.push(callback);\n    if (root._bokeh_is_loading > 0) {\n      console.log(\"Bokeh: BokehJS is being loaded, scheduling callback at\", now());\n      return null;\n    }\n    if (js_urls == null || js_urls.length === 0) {\n      run_callbacks();\n      return null;\n    }\n    console.log(\"Bokeh: BokehJS not loaded, scheduling load and callback at\", now());\n    root._bokeh_is_loading = js_urls.length;\n    for (var i = 0; i < js_urls.length; i++) {\n      var url = js_urls[i];\n      var s = document.createElement('script');\n      s.src = url;\n      s.async = false;\n      s.onreadystatechange = s.onload = function() {\n        root._bokeh_is_loading--;\n        if (root._bokeh_is_loading === 0) {\n          console.log(\"Bokeh: all BokehJS libraries loaded\");\n          run_callbacks()\n        }\n      };\n      s.onerror = function() {\n        console.warn(\"failed to load library \" + url);\n      };\n      console.log(\"Bokeh: injecting script tag for BokehJS library: \", url);\n      document.getElementsByTagName(\"head\")[0].appendChild(s);\n    }\n  };var element = document.getElementById(\"1002\");\n  if (element == null) {\n    console.log(\"Bokeh: ERROR: autoload.js configured with elementid '1002' but no matching script tag was found. \")\n    return false;\n  }\n\n  var js_urls = [\"https://cdn.pydata.org/bokeh/release/bokeh-1.0.2.min.js\", \"https://cdn.pydata.org/bokeh/release/bokeh-widgets-1.0.2.min.js\", \"https://cdn.pydata.org/bokeh/release/bokeh-tables-1.0.2.min.js\", \"https://cdn.pydata.org/bokeh/release/bokeh-gl-1.0.2.min.js\"];\n\n  var inline_js = [\n    function(Bokeh) {\n      Bokeh.set_log_level(\"info\");\n    },\n    \n    function(Bokeh) {\n      \n    },\n    function(Bokeh) {\n      console.log(\"Bokeh: injecting CSS: https://cdn.pydata.org/bokeh/release/bokeh-1.0.2.min.css\");\n      Bokeh.embed.inject_css(\"https://cdn.pydata.org/bokeh/release/bokeh-1.0.2.min.css\");\n      console.log(\"Bokeh: injecting CSS: https://cdn.pydata.org/bokeh/release/bokeh-widgets-1.0.2.min.css\");\n      Bokeh.embed.inject_css(\"https://cdn.pydata.org/bokeh/release/bokeh-widgets-1.0.2.min.css\");\n      console.log(\"Bokeh: injecting CSS: https://cdn.pydata.org/bokeh/release/bokeh-tables-1.0.2.min.css\");\n      Bokeh.embed.inject_css(\"https://cdn.pydata.org/bokeh/release/bokeh-tables-1.0.2.min.css\");\n    }\n  ];\n\n  function run_inline_js() {\n    \n    if ((root.Bokeh !== undefined) || (force === true)) {\n      for (var i = 0; i < inline_js.length; i++) {\n        inline_js[i].call(root, root.Bokeh);\n      }if (force === true) {\n        display_loaded();\n      }} else if (Date.now() < root._bokeh_timeout) {\n      setTimeout(run_inline_js, 100);\n    } else if (!root._bokeh_failed_load) {\n      console.log(\"Bokeh: BokehJS failed to load within specified timeout.\");\n      root._bokeh_failed_load = true;\n    } else if (force !== true) {\n      var cell = $(document.getElementById(\"1002\")).parents('.cell').data().cell;\n      cell.output_area.append_execute_result(NB_LOAD_WARNING)\n    }\n\n  }\n\n  if (root._bokeh_is_loading === 0) {\n    console.log(\"Bokeh: BokehJS loaded, going straight to plotting\");\n    run_inline_js();\n  } else {\n    load_libs(js_urls, function() {\n      console.log(\"Bokeh: BokehJS plotting callback run at\", now());\n      run_inline_js();\n    });\n  }\n}(window));"
     },
     "metadata": {},
     "output_type": "display_data"
    }
   ],
   "source": [
    "# Show plots embedded in jupyter notebook\n",
    "output_notebook()"
   ]
  },
  {
   "cell_type": "code",
   "execution_count": 23,
   "metadata": {},
   "outputs": [],
   "source": [
    "# Create custom style function to style our plots\n",
    "def style(p):\n",
    "    # Title\n",
    "    p.title.align='center'\n",
    "    p.title.text_font_size='20pt'\n",
    "    p.title.text_font='serif'\n",
    "    \n",
    "    # Axis titles\n",
    "    p.xaxis.axis_label_text_font_size='14pt'\n",
    "    p.xaxis.axis_label_text_font_style='bold'\n",
    "    p.yaxis.axis_label_text_font_size='14pt'\n",
    "    p.yaxis.axis_label_text_font_style='bold'\n",
    "    \n",
    "    # Tick labels\n",
    "    p.xaxis.major_label_text_font_size='12pt'\n",
    "    p.yaxis.major_label_text_font_size='12pt'\n",
    "    \n",
    "    # Plot the legend in the top left corner\n",
    "    p.legend.location='top_left'\n",
    "    \n",
    "    return p\n",
    "    "
   ]
  },
  {
   "cell_type": "code",
   "execution_count": 24,
   "metadata": {},
   "outputs": [],
   "source": [
    "# Create the Geo Map plot\n",
    "def plotMap():\n",
    "    lat = df_quakes_2016['Latitude'].values.tolist()\n",
    "    lon = df_quakes_2016['Longitude'].values.tolist()\n",
    "    \n",
    "    pred_lat = df_quake_pred['Latitude'].values.tolist()\n",
    "    pred_lon = df_quake_pred['Longitude'].values.tolist()\n",
    "    \n",
    "    lst_lat = []\n",
    "    lst_lon = []\n",
    "    lst_pred_lat = []\n",
    "    lst_pred_lon = []\n",
    "    \n",
    "    i=0\n",
    "    j=0\n",
    "    \n",
    "    # Convert Lat and Long values into merc_projection format\n",
    "    for i in range(len(lon)):\n",
    "        r_major = 6378137.000\n",
    "        x = r_major * math.radians(lon[i])\n",
    "        scale = x/lon[i]\n",
    "        y = 180.0/math.pi * math.log(math.tan(math.pi/4.0 +\n",
    "            lat[i] * (math.pi/180.0)/2.0)) * scale\n",
    "        \n",
    "        lst_lon.append(x)\n",
    "        lst_lat.append(y)\n",
    "        i += 1\n",
    "        \n",
    "    # Convert predicted lat and long values into merc_projection format\n",
    "    for j in range(len(pred_lon)):\n",
    "        r_major = 6378137.000\n",
    "        x = r_major * math.radians(pred_lon[j])\n",
    "        scale = x/pred_lon[j]\n",
    "        y = 180.0/math.pi * math.log(math.tan(math.pi/4.0 +\n",
    "            pred_lat[j] * (math.pi/180.0)/2.0)) * scale\n",
    "        \n",
    "        lst_pred_lon.append(x)\n",
    "        lst_pred_lat.append(y)\n",
    "        j += 1\n",
    "    \n",
    "    \n",
    "    df_quakes_2016['coords_x'] = lst_lat\n",
    "    df_quakes_2016['coords_y'] = lst_lon\n",
    "    df_quake_pred['coords_x'] = lst_pred_lat\n",
    "    df_quake_pred['coords_y'] = lst_pred_lon\n",
    "    \n",
    "    # Scale the circles\n",
    "    df_quakes_2016['Mag_Size'] = df_quakes_2016['Magnitude'] * 4\n",
    "    df_quake_pred['Mag_Size'] = df_quake_pred['Pred_Magnitude'] * 4\n",
    "    \n",
    "    # create datasources for our ColumnDataSource object\n",
    "    lats = df_quakes_2016['coords_x'].tolist()\n",
    "    longs = df_quakes_2016['coords_y'].tolist()\n",
    "    mags = df_quakes_2016['Magnitude'].tolist()\n",
    "    years = df_quakes_2016['Year'].tolist()\n",
    "    mag_size = df_quakes_2016['Mag_Size'].tolist()\n",
    "    \n",
    "    pred_lats = df_quake_pred['coords_x'].tolist()\n",
    "    pred_longs = df_quake_pred['coords_y'].tolist()\n",
    "    pred_mags = df_quake_pred['Pred_Magnitude'].tolist()\n",
    "    pred_year = df_quake_pred['Year'].tolist()\n",
    "    pred_mag_size = df_quake_pred['Mag_Size'].tolist()\n",
    "    \n",
    "    # Create column datasource\n",
    "    cds = ColumnDataSource(\n",
    "        data=dict(\n",
    "            lat=lats,\n",
    "            lon=longs,\n",
    "            mag=mags,\n",
    "            year=years,\n",
    "            mag_s=mag_size\n",
    "        )\n",
    "    )\n",
    "    \n",
    "    pred_cds = ColumnDataSource(\n",
    "        data=dict(\n",
    "            pred_lat=pred_lats,\n",
    "            pred_long=pred_longs,\n",
    "            pred_mag=pred_mags,\n",
    "            year=pred_year,\n",
    "            pred_mag_s=pred_mag_size\n",
    "        )\n",
    "    )\n",
    "    \n",
    "    # Tooltips\n",
    "    TOOLTIPS = [\n",
    "        (\"Year\", \" @year\"),\n",
    "        (\"Magnitude\", \" @mag\"),\n",
    "        (\"Predicted Magnitude\", \" @pred_mag\")\n",
    "    ]\n",
    "    \n",
    "    # Create figure\n",
    "    p = figure(title='Earthquake Map',\n",
    "              plot_width=2300, plot_height=450,\n",
    "              x_range=(-2000000, 6000000),\n",
    "              y_range=(-1000000, 7000000),\n",
    "              tooltips=TOOLTIPS)\n",
    "    \n",
    "    p.circle(x='lon', y='lat', size='mag_s', fill_color='#cc0000', fill_alpha=0.7,\n",
    "            source=cds, legend='Quakes 2016')\n",
    "    \n",
    "    # Add circles for our predicted earthquakes\n",
    "    p.circle(x='pred_long', y='pred_lat', size='pred_mag_s', fill_color='#ccff33', fill_alpha=7.0,\n",
    "            source=pred_cds, legend='Predicted Quakes 2017')\n",
    "    \n",
    "    p.add_tile(CARTODBPOSITRON)\n",
    "    \n",
    "    # Style the map plot\n",
    "    # Title\n",
    "    p.title.align='center'\n",
    "    p.title.text_font_size='20pt'\n",
    "    p.title.text_font='serif'\n",
    "    \n",
    "    # Legend\n",
    "    p.legend.location='bottom_right'\n",
    "    p.legend.background_fill_color='black'\n",
    "    p.legend.background_fill_alpha=0.8\n",
    "    p.legend.click_policy='hide'\n",
    "    p.legend.label_text_color='white'\n",
    "    p.xaxis.visible=False\n",
    "    p.yaxis.visible=False\n",
    "    p.axis.axis_label=None\n",
    "    p.axis.visible=False\n",
    "    p.grid.grid_line_color=None\n",
    "    \n",
    "    \n",
    "    #show(p)\n",
    "    \n",
    "    return p\n",
    "    \n",
    "#plotMap()  "
   ]
  },
  {
   "cell_type": "code",
   "execution_count": 25,
   "metadata": {},
   "outputs": [],
   "source": [
    "# Create the Bar Chart\n",
    "def plotBar():\n",
    "    # Load the datasource \n",
    "    cds = ColumnDataSource(data=dict(\n",
    "        yrs = df_quake_freq['Year'].values.tolist(),\n",
    "        numQuakes = df_quake_freq['Counts'].values.tolist()\n",
    "    ))\n",
    "    \n",
    "    # Tooltip\n",
    "    TOOLTIPS = [\n",
    "        ('Year', ' @yrs'),\n",
    "        ('Number of earthquakes', ' @numQuakes')\n",
    "    ]\n",
    "    \n",
    "    # Create a figure\n",
    "    barChart = figure(title='Frequency of Earthquakes by Year',\n",
    "                     plot_height=400,\n",
    "                     plot_width=1150,\n",
    "                     x_axis_label='Years',\n",
    "                     y_axis_label='Number of Occurances',\n",
    "                     x_minor_ticks=2,\n",
    "                     y_range=(0, df_quake_freq['Counts'].max() + 100),\n",
    "                     toolbar_location=None,\n",
    "                     tooltips=TOOLTIPS)\n",
    "    \n",
    "    # Create a vertical bar \n",
    "    barChart.vbar(x='yrs', bottom=0, top='numQuakes',\n",
    "                 color='#cc0000', width=0.75,\n",
    "                 legend='Year', source=cds)\n",
    "    \n",
    "    # Style the bar chart\n",
    "    barChart = style(barChart)\n",
    "    \n",
    "    #show(barChart)\n",
    "    \n",
    "    return barChart\n",
    "    \n",
    "    \n",
    "#plotBar()\n",
    " \n"
   ]
  },
  {
   "cell_type": "code",
   "execution_count": 26,
   "metadata": {},
   "outputs": [
    {
     "data": {
      "text/html": [
       "<div>\n",
       "<style scoped>\n",
       "    .dataframe tbody tr th:only-of-type {\n",
       "        vertical-align: middle;\n",
       "    }\n",
       "\n",
       "    .dataframe tbody tr th {\n",
       "        vertical-align: top;\n",
       "    }\n",
       "\n",
       "    .dataframe thead th {\n",
       "        text-align: right;\n",
       "    }\n",
       "</style>\n",
       "<table border=\"1\" class=\"dataframe\">\n",
       "  <thead>\n",
       "    <tr style=\"text-align: right;\">\n",
       "      <th></th>\n",
       "      <th>Avg_Magnitude</th>\n",
       "      <th>Counts</th>\n",
       "      <th>Max_Magnitude</th>\n",
       "      <th>Year</th>\n",
       "    </tr>\n",
       "  </thead>\n",
       "  <tbody>\n",
       "    <tr>\n",
       "      <th>0</th>\n",
       "      <td>6.009615</td>\n",
       "      <td>156</td>\n",
       "      <td>8.7</td>\n",
       "      <td>1965</td>\n",
       "    </tr>\n",
       "    <tr>\n",
       "      <th>1</th>\n",
       "      <td>6.060714</td>\n",
       "      <td>98</td>\n",
       "      <td>7.7</td>\n",
       "      <td>1966</td>\n",
       "    </tr>\n",
       "    <tr>\n",
       "      <th>2</th>\n",
       "      <td>5.962136</td>\n",
       "      <td>103</td>\n",
       "      <td>7.2</td>\n",
       "      <td>1967</td>\n",
       "    </tr>\n",
       "    <tr>\n",
       "      <th>3</th>\n",
       "      <td>6.070755</td>\n",
       "      <td>106</td>\n",
       "      <td>7.6</td>\n",
       "      <td>1968</td>\n",
       "    </tr>\n",
       "    <tr>\n",
       "      <th>4</th>\n",
       "      <td>6.015789</td>\n",
       "      <td>114</td>\n",
       "      <td>7.5</td>\n",
       "      <td>1969</td>\n",
       "    </tr>\n",
       "  </tbody>\n",
       "</table>\n",
       "</div>"
      ],
      "text/plain": [
       "   Avg_Magnitude  Counts  Max_Magnitude  Year\n",
       "0       6.009615     156            8.7  1965\n",
       "1       6.060714      98            7.7  1966\n",
       "2       5.962136     103            7.2  1967\n",
       "3       6.070755     106            7.6  1968\n",
       "4       6.015789     114            7.5  1969"
      ]
     },
     "execution_count": 26,
     "metadata": {},
     "output_type": "execute_result"
    }
   ],
   "source": [
    "df_quake_freq.head()"
   ]
  },
  {
   "cell_type": "code",
   "execution_count": 27,
   "metadata": {},
   "outputs": [],
   "source": [
    "# Create a magnitude plot\n",
    "def plotMagnitude():\n",
    "    # Load the datasource\n",
    "    cds = ColumnDataSource(data=dict(\n",
    "        yrs = df_quake_freq['Year'].values.tolist(),\n",
    "        avg_mag = df_quake_freq['Avg_Magnitude'].round(1).values.tolist(),\n",
    "        max_mag = df_quake_freq['Max_Magnitude'].values.tolist()\n",
    "    ))\n",
    "    \n",
    "    # Tooltip\n",
    "    TOOLTIPS = [\n",
    "        ('Year', ' @yrs'),\n",
    "        ('Average Magnitude', ' @avg_mag'),\n",
    "        ('Maximum Magnitude', ' @max_mag')\n",
    "    ]\n",
    "    \n",
    "    # Create the figure\n",
    "    mp = figure(title='Maximum and Average Magnitude by Year',\n",
    "               plot_width=1150, plot_height=400,\n",
    "               x_axis_label='Years',\n",
    "               y_axis_label='Magnitude',\n",
    "               x_minor_ticks=2,\n",
    "               y_range=(5, df_quake_freq['Max_Magnitude'].max() + 1),\n",
    "               toolbar_location=None,\n",
    "               tooltips=TOOLTIPS)\n",
    "    \n",
    "    # Max Magnitude\n",
    "    mp.line(x='yrs', y='max_mag', color='#cc0000', line_width=2, legend='Max Magnitude', source=cds)\n",
    "    mp.circle(x='yrs', y='max_mag', color='#cc0000', size=8, fill_color='#cc0000', source=cds)\n",
    "    \n",
    "    # Average Magnitude \n",
    "    mp.line(x='yrs', y='avg_mag', color='yellow', line_width=2, legend='Avg Magnitude', source=cds)\n",
    "    mp.circle(x='yrs', y='avg_mag', color='yellow', size=8, fill_color='yellow', source=cds)\n",
    "    \n",
    "    mp = style(mp)\n",
    "    \n",
    "    #show(mp)\n",
    "    \n",
    "    return mp\n",
    "\n",
    "#plotMagnitude()    "
   ]
  },
  {
   "cell_type": "code",
   "execution_count": 28,
   "metadata": {},
   "outputs": [],
   "source": [
    "# Display the visuals directly in the browser\n",
    "output_file('dashboard.html')\n",
    "# Change to a dark theme\n",
    "curdoc().theme = 'dark_minimal'"
   ]
  },
  {
   "cell_type": "code",
   "execution_count": 29,
   "metadata": {},
   "outputs": [
    {
     "name": "stderr",
     "output_type": "stream",
     "text": [
      "C:\\Users\\Edwin\\Anaconda3\\lib\\site-packages\\ipykernel_launcher.py:42: SettingWithCopyWarning: \n",
      "A value is trying to be set on a copy of a slice from a DataFrame.\n",
      "Try using .loc[row_indexer,col_indexer] = value instead\n",
      "\n",
      "See the caveats in the documentation: http://pandas.pydata.org/pandas-docs/stable/indexing.html#indexing-view-versus-copy\n",
      "C:\\Users\\Edwin\\Anaconda3\\lib\\site-packages\\ipykernel_launcher.py:43: SettingWithCopyWarning: \n",
      "A value is trying to be set on a copy of a slice from a DataFrame.\n",
      "Try using .loc[row_indexer,col_indexer] = value instead\n",
      "\n",
      "See the caveats in the documentation: http://pandas.pydata.org/pandas-docs/stable/indexing.html#indexing-view-versus-copy\n",
      "C:\\Users\\Edwin\\Anaconda3\\lib\\site-packages\\ipykernel_launcher.py:48: SettingWithCopyWarning: \n",
      "A value is trying to be set on a copy of a slice from a DataFrame.\n",
      "Try using .loc[row_indexer,col_indexer] = value instead\n",
      "\n",
      "See the caveats in the documentation: http://pandas.pydata.org/pandas-docs/stable/indexing.html#indexing-view-versus-copy\n"
     ]
    },
    {
     "data": {
      "text/html": [
       "\n",
       "\n",
       "\n",
       "\n",
       "\n",
       "\n",
       "  <div class=\"bk-root\" id=\"92a0c4f9-1827-4bb5-bae0-c4e7914364ad\"></div>\n"
      ]
     },
     "metadata": {},
     "output_type": "display_data"
    },
    {
     "data": {
      "application/javascript": [
       "(function(root) {\n",
       "  function embed_document(root) {\n",
       "    \n",
       "  var docs_json = {\"4bf2e978-c32c-466c-a638-cc44b872c43b\":{\"roots\":{\"references\":[{\"attributes\":{\"children\":[{\"id\":\"3750\",\"type\":\"ToolbarBox\"},{\"id\":\"3748\",\"type\":\"Column\"}]},\"id\":\"3751\",\"type\":\"Column\"},{\"attributes\":{},\"id\":\"3546\",\"type\":\"SaveTool\"},{\"attributes\":{},\"id\":\"3659\",\"type\":\"BasicTicker\"},{\"attributes\":{\"background_fill_color\":{\"value\":\"#20262B\"},\"below\":[{\"id\":\"3533\",\"type\":\"LinearAxis\"}],\"border_fill_color\":{\"value\":\"#15191C\"},\"left\":[{\"id\":\"3538\",\"type\":\"LinearAxis\"}],\"outline_line_alpha\":{\"value\":0.25},\"outline_line_color\":{\"value\":\"#E0E0E0\"},\"plot_height\":450,\"plot_width\":2300,\"renderers\":[{\"id\":\"3533\",\"type\":\"LinearAxis\"},{\"id\":\"3537\",\"type\":\"Grid\"},{\"id\":\"3538\",\"type\":\"LinearAxis\"},{\"id\":\"3542\",\"type\":\"Grid\"},{\"id\":\"3552\",\"type\":\"BoxAnnotation\"},{\"id\":\"3571\",\"type\":\"Legend\"},{\"id\":\"3563\",\"type\":\"GlyphRenderer\"},{\"id\":\"3576\",\"type\":\"GlyphRenderer\"},{\"id\":\"3587\",\"type\":\"TileRenderer\"}],\"title\":{\"id\":\"3522\",\"type\":\"Title\"},\"toolbar\":{\"id\":\"3550\",\"type\":\"Toolbar\"},\"toolbar_location\":null,\"x_range\":{\"id\":\"3525\",\"type\":\"Range1d\"},\"x_scale\":{\"id\":\"3529\",\"type\":\"LinearScale\"},\"y_range\":{\"id\":\"3527\",\"type\":\"Range1d\"},\"y_scale\":{\"id\":\"3531\",\"type\":\"LinearScale\"}},\"id\":\"3523\",\"subtype\":\"Figure\",\"type\":\"Plot\"},{\"attributes\":{\"bottom_units\":\"screen\",\"fill_alpha\":{\"value\":0.5},\"fill_color\":{\"value\":\"lightgrey\"},\"left_units\":\"screen\",\"level\":\"overlay\",\"line_alpha\":{\"value\":1.0},\"line_color\":{\"value\":\"black\"},\"line_dash\":[4,4],\"line_width\":{\"value\":2},\"plot\":null,\"render_mode\":\"css\",\"right_units\":\"screen\",\"top_units\":\"screen\"},\"id\":\"3620\",\"type\":\"BoxAnnotation\"},{\"attributes\":{},\"id\":\"3584\",\"type\":\"UnionRenderers\"},{\"attributes\":{\"toolbar\":{\"id\":\"3749\",\"type\":\"ProxyToolbar\"},\"toolbar_location\":\"above\"},\"id\":\"3750\",\"type\":\"ToolbarBox\"},{\"attributes\":{},\"id\":\"3686\",\"type\":\"BasicTickFormatter\"},{\"attributes\":{\"fill_color\":{\"value\":\"#cc0000\"},\"line_color\":{\"value\":\"#cc0000\"},\"top\":{\"field\":\"numQuakes\"},\"width\":{\"value\":0.75},\"x\":{\"field\":\"yrs\"}},\"id\":\"3629\",\"type\":\"VBar\"},{\"attributes\":{\"callback\":null,\"end\":6000000,\"start\":-2000000},\"id\":\"3525\",\"type\":\"Range1d\"},{\"attributes\":{\"line_alpha\":0.1,\"line_color\":\"#1f77b4\",\"line_width\":2,\"x\":{\"field\":\"yrs\"},\"y\":{\"field\":\"avg_mag\"}},\"id\":\"3700\",\"type\":\"Line\"},{\"attributes\":{},\"id\":\"3583\",\"type\":\"Selection\"},{\"attributes\":{\"source\":{\"id\":\"3641\",\"type\":\"ColumnDataSource\"}},\"id\":\"3684\",\"type\":\"CDSView\"},{\"attributes\":{\"axis_label\":null,\"axis_label_standoff\":10,\"axis_label_text_color\":{\"value\":\"#E0E0E0\"},\"axis_label_text_font\":\"Helvetica\",\"axis_label_text_font_size\":{\"value\":\"1.25em\"},\"axis_label_text_font_style\":\"normal\",\"axis_line_alpha\":{\"value\":0},\"axis_line_color\":{\"value\":\"#E0E0E0\"},\"formatter\":{\"id\":\"3566\",\"type\":\"BasicTickFormatter\"},\"major_label_text_color\":{\"value\":\"#E0E0E0\"},\"major_label_text_font\":\"Helvetica\",\"major_label_text_font_size\":{\"value\":\"1.025em\"},\"major_tick_line_alpha\":{\"value\":0},\"major_tick_line_color\":{\"value\":\"#E0E0E0\"},\"minor_tick_line_alpha\":{\"value\":0},\"minor_tick_line_color\":{\"value\":\"#E0E0E0\"},\"plot\":{\"id\":\"3523\",\"subtype\":\"Figure\",\"type\":\"Plot\"},\"ticker\":{\"id\":\"3534\",\"type\":\"BasicTicker\"},\"visible\":false},\"id\":\"3533\",\"type\":\"LinearAxis\"},{\"attributes\":{\"axis_label\":\"Years\",\"axis_label_standoff\":10,\"axis_label_text_color\":{\"value\":\"#E0E0E0\"},\"axis_label_text_font\":\"Helvetica\",\"axis_label_text_font_size\":{\"value\":\"14pt\"},\"axis_label_text_font_style\":\"bold\",\"axis_line_alpha\":{\"value\":0},\"axis_line_color\":{\"value\":\"#E0E0E0\"},\"formatter\":{\"id\":\"3634\",\"type\":\"BasicTickFormatter\"},\"major_label_text_color\":{\"value\":\"#E0E0E0\"},\"major_label_text_font\":\"Helvetica\",\"major_label_text_font_size\":{\"value\":\"12pt\"},\"major_tick_line_alpha\":{\"value\":0},\"major_tick_line_color\":{\"value\":\"#E0E0E0\"},\"minor_tick_line_alpha\":{\"value\":0},\"minor_tick_line_color\":{\"value\":\"#E0E0E0\"},\"plot\":{\"id\":\"3591\",\"subtype\":\"Figure\",\"type\":\"Plot\"},\"ticker\":{\"id\":\"3602\",\"type\":\"BasicTicker\"}},\"id\":\"3601\",\"type\":\"LinearAxis\"},{\"attributes\":{\"children\":[{\"id\":\"3591\",\"subtype\":\"Figure\",\"type\":\"Plot\"},{\"id\":\"3643\",\"subtype\":\"Figure\",\"type\":\"Plot\"}]},\"id\":\"3747\",\"type\":\"Row\"},{\"attributes\":{},\"id\":\"3531\",\"type\":\"LinearScale\"},{\"attributes\":{\"data_source\":{\"id\":\"3589\",\"type\":\"ColumnDataSource\"},\"glyph\":{\"id\":\"3629\",\"type\":\"VBar\"},\"hover_glyph\":null,\"muted_glyph\":null,\"nonselection_glyph\":{\"id\":\"3630\",\"type\":\"VBar\"},\"selection_glyph\":null,\"view\":{\"id\":\"3632\",\"type\":\"CDSView\"}},\"id\":\"3631\",\"type\":\"GlyphRenderer\"},{\"attributes\":{},\"id\":\"3547\",\"type\":\"ResetTool\"},{\"attributes\":{\"line_color\":\"yellow\",\"line_width\":2,\"x\":{\"field\":\"yrs\"},\"y\":{\"field\":\"avg_mag\"}},\"id\":\"3699\",\"type\":\"Line\"},{\"attributes\":{\"active_drag\":\"auto\",\"active_inspect\":\"auto\",\"active_multi\":null,\"active_scroll\":\"auto\",\"active_tap\":\"auto\",\"tools\":[{\"id\":\"3611\",\"type\":\"PanTool\"},{\"id\":\"3612\",\"type\":\"WheelZoomTool\"},{\"id\":\"3613\",\"type\":\"BoxZoomTool\"},{\"id\":\"3614\",\"type\":\"SaveTool\"},{\"id\":\"3615\",\"type\":\"ResetTool\"},{\"id\":\"3616\",\"type\":\"HelpTool\"},{\"id\":\"3617\",\"type\":\"HoverTool\"}]},\"id\":\"3618\",\"type\":\"Toolbar\"},{\"attributes\":{\"source\":{\"id\":\"3641\",\"type\":\"ColumnDataSource\"}},\"id\":\"3716\",\"type\":\"CDSView\"},{\"attributes\":{\"dimension\":1,\"grid_line_alpha\":{\"value\":0.25},\"grid_line_color\":{\"value\":null},\"plot\":{\"id\":\"3523\",\"subtype\":\"Figure\",\"type\":\"Plot\"},\"ticker\":{\"id\":\"3539\",\"type\":\"BasicTicker\"}},\"id\":\"3542\",\"type\":\"Grid\"},{\"attributes\":{},\"id\":\"3534\",\"type\":\"BasicTicker\"},{\"attributes\":{\"bottom_units\":\"screen\",\"fill_alpha\":{\"value\":0.5},\"fill_color\":{\"value\":\"lightgrey\"},\"left_units\":\"screen\",\"level\":\"overlay\",\"line_alpha\":{\"value\":1.0},\"line_color\":{\"value\":\"black\"},\"line_dash\":[4,4],\"line_width\":{\"value\":2},\"plot\":null,\"render_mode\":\"css\",\"right_units\":\"screen\",\"top_units\":\"screen\"},\"id\":\"3672\",\"type\":\"BoxAnnotation\"},{\"attributes\":{},\"id\":\"3544\",\"type\":\"WheelZoomTool\"},{\"attributes\":{},\"id\":\"3611\",\"type\":\"PanTool\"},{\"attributes\":{},\"id\":\"3725\",\"type\":\"UnionRenderers\"},{\"attributes\":{\"num_minor_ticks\":2},\"id\":\"3602\",\"type\":\"BasicTicker\"},{\"attributes\":{\"fill_alpha\":{\"value\":0.7},\"fill_color\":{\"value\":\"#cc0000\"},\"line_color\":{\"value\":\"#1f77b4\"},\"size\":{\"field\":\"mag_s\",\"units\":\"screen\"},\"x\":{\"field\":\"lon\"},\"y\":{\"field\":\"lat\"}},\"id\":\"3561\",\"type\":\"Circle\"},{\"attributes\":{\"fill_alpha\":{\"value\":0.1},\"fill_color\":{\"value\":\"#1f77b4\"},\"line_alpha\":{\"value\":0.1},\"line_color\":{\"value\":\"#1f77b4\"},\"size\":{\"field\":\"mag_s\",\"units\":\"screen\"},\"x\":{\"field\":\"lon\"},\"y\":{\"field\":\"lat\"}},\"id\":\"3562\",\"type\":\"Circle\"},{\"attributes\":{\"source\":{\"id\":\"3641\",\"type\":\"ColumnDataSource\"}},\"id\":\"3697\",\"type\":\"CDSView\"},{\"attributes\":{},\"id\":\"3599\",\"type\":\"LinearScale\"},{\"attributes\":{\"fill_color\":{\"value\":\"yellow\"},\"line_color\":{\"value\":\"yellow\"},\"size\":{\"units\":\"screen\",\"value\":8},\"x\":{\"field\":\"yrs\"},\"y\":{\"field\":\"avg_mag\"}},\"id\":\"3713\",\"type\":\"Circle\"},{\"attributes\":{\"background_fill_alpha\":{\"value\":0.8},\"background_fill_color\":{\"value\":\"black\"},\"border_line_alpha\":{\"value\":0},\"click_policy\":\"hide\",\"glyph_width\":15,\"items\":[{\"id\":\"3572\",\"type\":\"LegendItem\"},{\"id\":\"3586\",\"type\":\"LegendItem\"}],\"label_standoff\":8,\"label_text_color\":{\"value\":\"white\"},\"label_text_font\":\"Helvetica\",\"label_text_font_size\":{\"value\":\"1.025em\"},\"location\":\"bottom_right\",\"plot\":{\"id\":\"3523\",\"subtype\":\"Figure\",\"type\":\"Plot\"},\"spacing\":8},\"id\":\"3571\",\"type\":\"Legend\"},{\"attributes\":{\"num_minor_ticks\":2},\"id\":\"3654\",\"type\":\"BasicTicker\"},{\"attributes\":{\"label\":{\"value\":\"Avg Magnitude\"},\"renderers\":[{\"id\":\"3701\",\"type\":\"GlyphRenderer\"}]},\"id\":\"3711\",\"type\":\"LegendItem\"},{\"attributes\":{},\"id\":\"3616\",\"type\":\"HelpTool\"},{\"attributes\":{\"callback\":null,\"end\":460},\"id\":\"3595\",\"type\":\"Range1d\"},{\"attributes\":{},\"id\":\"3543\",\"type\":\"PanTool\"},{\"attributes\":{\"attribution\":\"&copy; <a href=\\\"https://www.openstreetmap.org/copyright\\\">OpenStreetMap</a> contributors,&copy; <a href=\\\"https://cartodb.com/attributions\\\">CartoDB</a>\",\"url\":\"https://tiles.basemaps.cartocdn.com/light_all/{z}/{x}/{y}.png\"},\"id\":\"3519\",\"type\":\"WMTSTileSource\"},{\"attributes\":{\"fill_alpha\":{\"value\":0.1},\"fill_color\":{\"value\":\"#1f77b4\"},\"line_alpha\":{\"value\":0.1},\"line_color\":{\"value\":\"#1f77b4\"},\"top\":{\"field\":\"numQuakes\"},\"width\":{\"value\":0.75},\"x\":{\"field\":\"yrs\"}},\"id\":\"3630\",\"type\":\"VBar\"},{\"attributes\":{\"callback\":null,\"tooltips\":[[\"Year\",\" @year\"],[\"Magnitude\",\" @mag\"],[\"Predicted Magnitude\",\" @pred_mag\"]]},\"id\":\"3549\",\"type\":\"HoverTool\"},{\"attributes\":{\"active_drag\":\"auto\",\"active_inspect\":\"auto\",\"active_multi\":null,\"active_scroll\":\"auto\",\"active_tap\":\"auto\",\"tools\":[{\"id\":\"3663\",\"type\":\"PanTool\"},{\"id\":\"3664\",\"type\":\"WheelZoomTool\"},{\"id\":\"3665\",\"type\":\"BoxZoomTool\"},{\"id\":\"3666\",\"type\":\"SaveTool\"},{\"id\":\"3667\",\"type\":\"ResetTool\"},{\"id\":\"3668\",\"type\":\"HelpTool\"},{\"id\":\"3669\",\"type\":\"HoverTool\"}]},\"id\":\"3670\",\"type\":\"Toolbar\"},{\"attributes\":{\"data_source\":{\"id\":\"3641\",\"type\":\"ColumnDataSource\"},\"glyph\":{\"id\":\"3699\",\"type\":\"Line\"},\"hover_glyph\":null,\"muted_glyph\":null,\"nonselection_glyph\":{\"id\":\"3700\",\"type\":\"Line\"},\"selection_glyph\":null,\"view\":{\"id\":\"3702\",\"type\":\"CDSView\"}},\"id\":\"3701\",\"type\":\"GlyphRenderer\"},{\"attributes\":{\"callback\":null,\"tooltips\":[[\"Year\",\" @yrs\"],[\"Number of earthquakes\",\" @numQuakes\"]]},\"id\":\"3617\",\"type\":\"HoverTool\"},{\"attributes\":{},\"id\":\"3597\",\"type\":\"LinearScale\"},{\"attributes\":{},\"id\":\"3651\",\"type\":\"LinearScale\"},{\"attributes\":{\"data_source\":{\"id\":\"3521\",\"type\":\"ColumnDataSource\"},\"glyph\":{\"id\":\"3574\",\"type\":\"Circle\"},\"hover_glyph\":null,\"muted_glyph\":null,\"nonselection_glyph\":{\"id\":\"3575\",\"type\":\"Circle\"},\"selection_glyph\":null,\"view\":{\"id\":\"3577\",\"type\":\"CDSView\"}},\"id\":\"3576\",\"type\":\"GlyphRenderer\"},{\"attributes\":{\"data_source\":{\"id\":\"3641\",\"type\":\"ColumnDataSource\"},\"glyph\":{\"id\":\"3694\",\"type\":\"Circle\"},\"hover_glyph\":null,\"muted_glyph\":null,\"nonselection_glyph\":{\"id\":\"3695\",\"type\":\"Circle\"},\"selection_glyph\":null,\"view\":{\"id\":\"3697\",\"type\":\"CDSView\"}},\"id\":\"3696\",\"type\":\"GlyphRenderer\"},{\"attributes\":{\"children\":[{\"id\":\"3728\",\"type\":\"Row\"},{\"id\":\"3747\",\"type\":\"Row\"}]},\"id\":\"3748\",\"type\":\"Column\"},{\"attributes\":{},\"id\":\"3539\",\"type\":\"BasicTicker\"},{\"attributes\":{},\"id\":\"3735\",\"type\":\"UnionRenderers\"},{\"attributes\":{\"overlay\":{\"id\":\"3552\",\"type\":\"BoxAnnotation\"}},\"id\":\"3545\",\"type\":\"BoxZoomTool\"},{\"attributes\":{\"axis_label\":\"Years\",\"axis_label_standoff\":10,\"axis_label_text_color\":{\"value\":\"#E0E0E0\"},\"axis_label_text_font\":\"Helvetica\",\"axis_label_text_font_size\":{\"value\":\"14pt\"},\"axis_label_text_font_style\":\"bold\",\"axis_line_alpha\":{\"value\":0},\"axis_line_color\":{\"value\":\"#E0E0E0\"},\"formatter\":{\"id\":\"3686\",\"type\":\"BasicTickFormatter\"},\"major_label_text_color\":{\"value\":\"#E0E0E0\"},\"major_label_text_font\":\"Helvetica\",\"major_label_text_font_size\":{\"value\":\"12pt\"},\"major_tick_line_alpha\":{\"value\":0},\"major_tick_line_color\":{\"value\":\"#E0E0E0\"},\"minor_tick_line_alpha\":{\"value\":0},\"minor_tick_line_color\":{\"value\":\"#E0E0E0\"},\"plot\":{\"id\":\"3643\",\"subtype\":\"Figure\",\"type\":\"Plot\"},\"ticker\":{\"id\":\"3654\",\"type\":\"BasicTicker\"}},\"id\":\"3653\",\"type\":\"LinearAxis\"},{\"attributes\":{},\"id\":\"3529\",\"type\":\"LinearScale\"},{\"attributes\":{\"callback\":null},\"id\":\"3593\",\"type\":\"DataRange1d\"},{\"attributes\":{\"tools\":[{\"id\":\"3543\",\"type\":\"PanTool\"},{\"id\":\"3544\",\"type\":\"WheelZoomTool\"},{\"id\":\"3545\",\"type\":\"BoxZoomTool\"},{\"id\":\"3546\",\"type\":\"SaveTool\"},{\"id\":\"3547\",\"type\":\"ResetTool\"},{\"id\":\"3548\",\"type\":\"HelpTool\"},{\"id\":\"3549\",\"type\":\"HoverTool\"},{\"id\":\"3611\",\"type\":\"PanTool\"},{\"id\":\"3612\",\"type\":\"WheelZoomTool\"},{\"id\":\"3613\",\"type\":\"BoxZoomTool\"},{\"id\":\"3614\",\"type\":\"SaveTool\"},{\"id\":\"3615\",\"type\":\"ResetTool\"},{\"id\":\"3616\",\"type\":\"HelpTool\"},{\"id\":\"3617\",\"type\":\"HoverTool\"},{\"id\":\"3663\",\"type\":\"PanTool\"},{\"id\":\"3664\",\"type\":\"WheelZoomTool\"},{\"id\":\"3665\",\"type\":\"BoxZoomTool\"},{\"id\":\"3666\",\"type\":\"SaveTool\"},{\"id\":\"3667\",\"type\":\"ResetTool\"},{\"id\":\"3668\",\"type\":\"HelpTool\"},{\"id\":\"3669\",\"type\":\"HoverTool\"}]},\"id\":\"3749\",\"type\":\"ProxyToolbar\"},{\"attributes\":{},\"id\":\"3548\",\"type\":\"HelpTool\"},{\"attributes\":{\"axis_label\":\"Magnitude\",\"axis_label_standoff\":10,\"axis_label_text_color\":{\"value\":\"#E0E0E0\"},\"axis_label_text_font\":\"Helvetica\",\"axis_label_text_font_size\":{\"value\":\"14pt\"},\"axis_label_text_font_style\":\"bold\",\"axis_line_alpha\":{\"value\":0},\"axis_line_color\":{\"value\":\"#E0E0E0\"},\"formatter\":{\"id\":\"3688\",\"type\":\"BasicTickFormatter\"},\"major_label_text_color\":{\"value\":\"#E0E0E0\"},\"major_label_text_font\":\"Helvetica\",\"major_label_text_font_size\":{\"value\":\"12pt\"},\"major_tick_line_alpha\":{\"value\":0},\"major_tick_line_color\":{\"value\":\"#E0E0E0\"},\"minor_tick_line_alpha\":{\"value\":0},\"minor_tick_line_color\":{\"value\":\"#E0E0E0\"},\"plot\":{\"id\":\"3643\",\"subtype\":\"Figure\",\"type\":\"Plot\"},\"ticker\":{\"id\":\"3659\",\"type\":\"BasicTicker\"}},\"id\":\"3658\",\"type\":\"LinearAxis\"},{\"attributes\":{\"align\":\"center\",\"plot\":null,\"text\":\"Earthquake Map\",\"text_color\":{\"value\":\"#E0E0E0\"},\"text_font\":\"serif\",\"text_font_size\":{\"value\":\"20pt\"}},\"id\":\"3522\",\"type\":\"Title\"},{\"attributes\":{\"source\":{\"id\":\"3521\",\"type\":\"ColumnDataSource\"}},\"id\":\"3577\",\"type\":\"CDSView\"},{\"attributes\":{},\"id\":\"3615\",\"type\":\"ResetTool\"},{\"attributes\":{},\"id\":\"3724\",\"type\":\"Selection\"},{\"attributes\":{\"callback\":null,\"tooltips\":[[\"Year\",\" @yrs\"],[\"Average Magnitude\",\" @avg_mag\"],[\"Maximum Magnitude\",\" @max_mag\"]]},\"id\":\"3669\",\"type\":\"HoverTool\"},{\"attributes\":{\"grid_line_alpha\":{\"value\":0.25},\"grid_line_color\":{\"value\":\"#E0E0E0\"},\"plot\":{\"id\":\"3643\",\"subtype\":\"Figure\",\"type\":\"Plot\"},\"ticker\":{\"id\":\"3654\",\"type\":\"BasicTicker\"}},\"id\":\"3657\",\"type\":\"Grid\"},{\"attributes\":{\"children\":[{\"id\":\"3523\",\"subtype\":\"Figure\",\"type\":\"Plot\"}]},\"id\":\"3728\",\"type\":\"Row\"},{\"attributes\":{\"active_drag\":\"auto\",\"active_inspect\":\"auto\",\"active_multi\":null,\"active_scroll\":\"auto\",\"active_tap\":\"auto\",\"tools\":[{\"id\":\"3543\",\"type\":\"PanTool\"},{\"id\":\"3544\",\"type\":\"WheelZoomTool\"},{\"id\":\"3545\",\"type\":\"BoxZoomTool\"},{\"id\":\"3546\",\"type\":\"SaveTool\"},{\"id\":\"3547\",\"type\":\"ResetTool\"},{\"id\":\"3548\",\"type\":\"HelpTool\"},{\"id\":\"3549\",\"type\":\"HoverTool\"}]},\"id\":\"3550\",\"type\":\"Toolbar\"},{\"attributes\":{},\"id\":\"3734\",\"type\":\"Selection\"},{\"attributes\":{},\"id\":\"3668\",\"type\":\"HelpTool\"},{\"attributes\":{\"fill_alpha\":{\"value\":0.1},\"fill_color\":{\"value\":\"#1f77b4\"},\"line_alpha\":{\"value\":0.1},\"line_color\":{\"value\":\"#1f77b4\"},\"size\":{\"field\":\"pred_mag_s\",\"units\":\"screen\"},\"x\":{\"field\":\"pred_long\"},\"y\":{\"field\":\"pred_lat\"}},\"id\":\"3575\",\"type\":\"Circle\"},{\"attributes\":{\"fill_alpha\":{\"value\":0.1},\"fill_color\":{\"value\":\"#1f77b4\"},\"line_alpha\":{\"value\":0.1},\"line_color\":{\"value\":\"#1f77b4\"},\"size\":{\"units\":\"screen\",\"value\":8},\"x\":{\"field\":\"yrs\"},\"y\":{\"field\":\"max_mag\"}},\"id\":\"3695\",\"type\":\"Circle\"},{\"attributes\":{\"overlay\":{\"id\":\"3620\",\"type\":\"BoxAnnotation\"}},\"id\":\"3613\",\"type\":\"BoxZoomTool\"},{\"attributes\":{\"background_fill_color\":{\"value\":\"#20262B\"},\"below\":[{\"id\":\"3653\",\"type\":\"LinearAxis\"}],\"border_fill_color\":{\"value\":\"#15191C\"},\"left\":[{\"id\":\"3658\",\"type\":\"LinearAxis\"}],\"outline_line_alpha\":{\"value\":0.25},\"outline_line_color\":{\"value\":\"#E0E0E0\"},\"plot_height\":400,\"plot_width\":1150,\"renderers\":[{\"id\":\"3653\",\"type\":\"LinearAxis\"},{\"id\":\"3657\",\"type\":\"Grid\"},{\"id\":\"3658\",\"type\":\"LinearAxis\"},{\"id\":\"3662\",\"type\":\"Grid\"},{\"id\":\"3672\",\"type\":\"BoxAnnotation\"},{\"id\":\"3691\",\"type\":\"Legend\"},{\"id\":\"3683\",\"type\":\"GlyphRenderer\"},{\"id\":\"3696\",\"type\":\"GlyphRenderer\"},{\"id\":\"3701\",\"type\":\"GlyphRenderer\"},{\"id\":\"3715\",\"type\":\"GlyphRenderer\"}],\"title\":{\"id\":\"3642\",\"type\":\"Title\"},\"toolbar\":{\"id\":\"3670\",\"type\":\"Toolbar\"},\"toolbar_location\":null,\"x_range\":{\"id\":\"3645\",\"type\":\"DataRange1d\"},\"x_scale\":{\"id\":\"3649\",\"type\":\"LinearScale\"},\"y_range\":{\"id\":\"3647\",\"type\":\"Range1d\"},\"y_scale\":{\"id\":\"3651\",\"type\":\"LinearScale\"}},\"id\":\"3643\",\"subtype\":\"Figure\",\"type\":\"Plot\"},{\"attributes\":{\"grid_line_alpha\":{\"value\":0.25},\"grid_line_color\":{\"value\":\"#E0E0E0\"},\"plot\":{\"id\":\"3591\",\"subtype\":\"Figure\",\"type\":\"Plot\"},\"ticker\":{\"id\":\"3602\",\"type\":\"BasicTicker\"}},\"id\":\"3605\",\"type\":\"Grid\"},{\"attributes\":{\"label\":{\"value\":\"Year\"},\"renderers\":[{\"id\":\"3631\",\"type\":\"GlyphRenderer\"}]},\"id\":\"3640\",\"type\":\"LegendItem\"},{\"attributes\":{\"line_alpha\":0.1,\"line_color\":\"#1f77b4\",\"line_width\":2,\"x\":{\"field\":\"yrs\"},\"y\":{\"field\":\"max_mag\"}},\"id\":\"3682\",\"type\":\"Line\"},{\"attributes\":{},\"id\":\"3709\",\"type\":\"UnionRenderers\"},{\"attributes\":{\"callback\":null,\"data\":{\"pred_lat\":[-4305644.878725946,-545572.9963252052,-2662437.544199333,2755248.2180776442,-5365811.401172721,-2198935.6254887776,-2201815.0661135376,-2169151.5511257183,-2151981.0195756736,-2022267.689426525,-2130721.2189970976,-2549699.865701337,-694543.9332678925,-7232331.040247741,12673256.347779717,499019.2775873914,1653476.4320984208,-1131687.975289045,-2610385.9209709303,-2291994.7871158165,-587136.108265621,3372.9807282539505,-2110306.486492369,-1702145.7202415739,-2114300.813983417,-1533175.837365457,369430.8808398337,-1523097.209169454,2255613.0303128827,5251466.08195597,5249092.034354799,-1158542.31074942,314783.38479557785,-696727.5869158688,-751615.0630744306,1355850.2420601917,-3515612.666032386,-1663110.5734038544,78148.23778704347,1358742.0221909478,1697280.2399914016,384206.4656621807,2899247.571116649,1108390.3548526065,-2736515.995592676,-1686526.5676896854,-2188094.3838645956,-2423170.738547443,-942997.9000432289,-2663406.851823695,-2033417.1551428244,-2109578.1952632125,4518380.554022869,-5588992.228074327,-7820139.622008823,8306487.562006566,4525320.617361077,-817948.6770221533,1099802.996351176,-7397288.521822361,-668525.4304657294,-698418.5745860382,5088588.534926192,-1691850.9498408462,-8433232.08722776,-3570322.1306225546,1618757.24354095,685451.8444193258,-2393392.991688738,-1766434.174267657,6635262.103856747,-1293287.889404825,-908799.531326025,-948748.992832175,-339539.992015826,6938469.688544394,7747885.474860748,2963540.901167296,34353.36095726692,6922941.295510339,-2593172.612202951,-7482427.682112884,6654349.953489209,4269774.326043047,-2157361.3814672176,1540382.0671977927,1547853.8366059961,-6832047.59130031,1464599.6400086829,632818.3313257238,636331.0777585702,857123.4469409954,862313.1988759948,638680.4740663961,-2064241.1614338474,-2664133.870717765,-822977.1091850322,-1504450.120204938,1973247.8774015973,-2047816.2328304106,-301988.9644560258,-4340474.349688632,-2337314.354431834,-3900003.6645173165,-3897255.305117063,-3900282.5196553133,-7337411.688928481,6658187.08326438,-1866135.711318369,-3924408.758540344,-3912532.1501572262,613680.5528100671,-1081459.7614575624,3608746.6061610063,8359970.740134858,8361875.379767513,8350300.101798156,8348464.775425542,-1312938.1458496503,4792667.472756803,4790503.900218573,-8586207.569116628,6625734.82365355,6629257.565175177,6752243.306047916,2808339.2316463753,6627150.819317838,-1641809.9026616956,6756972.061558729,-7641276.689954517,-7637796.156257059,-7675664.015505834,-3208248.7246229313,1450445.4558200159,4546886.706747683,-2371464.574741726,3151660.834632129,-448095.1517515751,1049075.6774900411,1977857.613992557,1926809.1237635878,5453657.620247199,-310681.9021402735,-1121049.0407249308,6858557.903920932,-2549170.4076041034,7104842.120234905,-143870.3768323784,-4487249.0510882195,-8100499.685198234,2164321.5495230677,7176067.416283686,-527676.4522642265,-8997805.451620065,-453675.0399595397,-1902394.1145143113,-7227922.704199101,1610771.2655774383,-929517.8827989912,-3697894.4979751343,4711592.3876203345,-2075577.6191125002,1591959.3923035788,1678726.4619239368,1726499.241972048,-3569999.0833416884,-7445379.231640741,-9036901.844784355,1266349.5260567088,-2764708.0832564547,-2361950.752767476,1541814.3773614864,-2207988.437418792,-5047525.047991203,-1736970.3674071126,-1066974.4236178973,-2220022.200725581,-2850083.1727469866,5434235.246962346,-3543498.6991029233,-3649032.4471866395,-509717.04716724897,3994117.608229388,-31715.053620725674,-3169524.199447897,-3178313.99124862,-4232681.143815502,5922688.114774268,1246500.756029532,-745752.8974622741,-2578074.42083684,-7572383.258442905,1230893.4115588807,-4321997.7203316195,-6357337.283314072,-4217157.9086806,4990992.382834879,-532580.2680479435,45619.11627917563,-2318066.2695521857,-2317341.8919830867,7280814.093520289,7254582.226507023,-1852960.1451625917,-7754111.940643026,-1969234.135804802,4497391.699737972,4429256.6953345,-2043834.993375725,34464.6820680013,4871567.652741578,3110671.5547305616,-396363.01566563087,1505010.8360824403,7227731.923012483,5800306.867275992,-3317861.212150935,681981.0936987327,-1145282.3105185104,-5989276.000660639,-605897.2791313904,-376534.060890135,-372999.13958976517,3920896.384432669,5512343.6078667715,6873195.893977935,6885703.918075628,-2876874.679370592,1574962.2867086118,-1839328.3396986248,-3534591.685046523,-419776.828952932,-1200527.5166430902,-7355095.6786795445,-1665850.7073915948,3334180.5471230606,-123795.04571138619,-698004.2220956333,-2032972.4655502085,-5985748.279869394,-161708.8821725821,-129028.0895611599,8062469.851229396,7771982.62055044,1576029.3031772126,5061494.911955777,-7912625.714267072,-1832961.9011957513,3221629.9168965113,1691758.742954441,1709872.5242152764,1698536.8710225923,1735030.4984869228,5128275.333156286,7787187.344932034,2747669.8187303916,1678530.6267919843,2118248.9355914155,-7448440.212338019,1815089.6939157222,-703995.8215343215,-2101533.516183289,-3739915.568881679,1718917.152009302,1701303.9921897436,2102014.9316169075,-6569926.986643506,4576798.589796728,-2129686.461762279,-566748.298184276,-681600.442976885,2698450.1605495107,4925775.566875482,1745701.721099107,1877309.0836236048,844230.1342541707,1725356.5830811297,-695092.6385978509,-2702494.352232406,4914743.655082393,3349465.5891309045,438911.39930979925,1512186.7203117542,-2557126.0721197636,106415.23801256623,4509494.443295251,4452482.453741789,-4206130.0392036885,-2153793.9305472,-8799329.294446291,6871116.152136846,-2104551.359970118,-7220161.650973685,-7219284.962370067,-3631956.9676027764,1831095.2137202795,-2735164.9224374145,-2720870.1036247457,-2343223.557681384,-26527.511136182584,-620133.7559040728,3289163.7310350225,-6862547.445647728,-805503.2306815294,-541126.3941315995,22972492.920816742,23017578.89083119,23070653.714063987,-961120.3823463281,-2475197.087909239,-2442723.714941221,-1746464.1334434794,-426236.4080493929,-419832.6093060029,-417177.49998489686,-425488.90432073775,-2478875.5770178144,-2469363.43797136,-2488321.031005311,-2480205.777766392,-2490671.2143681957,2114911.7816435685,-1726072.1813098392,-2420053.3593098465,-1707473.4933615183,-2113725.1115881503,1308391.019937781,-2472753.18361226,-2000220.328516855,-472794.39156972774,-2496656.043696367,3831869.552869018,-5081425.444171707,-1316405.7714694205,4151779.3925998537,4570289.9003546275,1064073.4976731613,-2054574.397347699,-2111410.720620923,1471113.6276090278,-8187111.827621816,4310739.577394617,-2456660.792872055,3792263.2916084253,3482140.0594611526,-330287.73264516547,274464.949188219,-2468081.975861971,-2451922.130950162,-2416088.7546149213,-2430626.024760267,-2449780.5835856874,-1657447.0457099949,-6795732.894736507,-4380114.846842927,3140736.139320978,-2347731.0651551904,-509784.05228970014,11972630.390174912,-2954956.4261257593,-1621239.7221826883,5653346.910651668,-751603.8537432499,-488869.975569843,-120254.43798601728,3599857.9663209543,-684209.0685570824,-6237394.496044554,-52320.747453207616,-3861757.15764775,-1566014.8139201794,-70121.559796827,1132049.8215287544,-3575065.421551152,1120201.224843237,-1818009.4917290597,1129381.2901968637,-2371952.904337748,-1612529.117119659,-2238506.885499229,3598666.3855736377,3610366.9396063318,-7211722.819822231,-2418106.7702445276,-836403.7278979729,-1959937.7578399326,-8316409.16625335,-2494688.855133488,3582901.595867437,3412595.806500549,7143535.427905174,-1731128.1413604217,-3234457.453569088,454601.3348356274,-7670127.402271534,-6999959.447355698,-605248.7137534146],\"pred_long\":[5780687.573505744,-8501191.21315532,19952716.286652006,10243363.50796821,-8293491.307233229,19597996.729239237,19587020.627447024,19613102.784139886,19624201.33737198,18604102.919589657,19620806.092902783,-7546904.878329982,16417053.411770526,-15123699.039937956,-10287657.533354852,13649673.134547904,16067855.301101107,17925454.77591754,-7770467.811690112,5192709.155084753,11435127.712502839,13923507.949950278,19618557.43918876,-19288127.794667084,19602182.34209307,18537177.64172474,10961585.730617331,18525444.56739513,-8526405.077819996,1472400.640824471,1468348.6113595958,17959785.70687819,14272093.803420337,17273645.761475686,17098918.688726567,16281210.237155495,-19753988.731687855,18607910.046174783,-8869591.935986578,15699053.828102991,-6737656.708059201,-8312393.356769928,7042560.793341977,13965208.231201438,-7420468.200686982,-19634654.237557467,-7113838.66329691,19411291.67928076,3342979.968267402,-19904325.70400417,-19863671.825966466,18857978.150292795,15733306.835420081,-9005435.110601611,-15876597.283969184,-16993432.33925086,4278063.6909309,17337788.05207077,13970161.94854174,-14379951.258049939,16626890.651915848,11375438.201539483,15796480.646445265,18719775.002472945,16731252.674534539,-19761447.137571003,16164992.688767318,10275278.80597864,18931883.16023045,-19717030.66074449,19934649.133296255,12754285.942301288,17895008.895185582,12837731.032599926,15235864.558861258,19176073.595234573,18121265.76022291,-12247782.259191895,13422926.463751087,-3597701.22710057,2800330.846497431,-3339729.4391362383,-19634220.09154337,6727738.14142952,18877414.533385303,13461921.68137597,13462467.146880858,15547347.626049919,13955200.608979123,14159983.944242429,14148139.550422024,13893997.152940981,13899607.655276963,14170982.309932806,-19833604.431503203,-7538834.215247469,9258653.55630907,18545404.152094364,-6806329.70192957,-19855946.253305417,-8382747.274951275,-10956943.707851252,-19325252.84484664,-8018298.394043178,-8027849.60635324,-8021871.749697642,-14504840.594770912,19885512.71006011,-19330217.69413602,-8011596.960697423,-7992717.175058885,13922261.171653392,12451029.385482254,14629017.486750808,-15218643.43363554,-15217841.933301827,-15209492.971492331,-15215348.37670806,-1551548.7987784883,7953087.436336478,7950694.067284424,-4231921.761997088,-19704841.176502623,-19702080.45313095,-19880269.562043745,14061588.646330256,-19708436.796055246,18632289.01465851,-19868358.376528863,-2865719.9153894004,-2870606.8410352245,-2876918.6561632035,-19658409.81689275,-10025555.79228209,6368120.52642185,-7648873.53189662,14476454.124618625,16973784.44912585,13798462.765942194,-11724480.464921793,-10473828.249757523,16444048.388287898,13594113.576692982,18028581.15218843,-18553163.120602652,-19628954.67962885,-17921024.26018397,13406350.991571967,-7980449.767173465,-2921234.945448006,16234411.523226002,19026682.83859,16156499.011619791,17347361.528278995,-8945445.037013115,-19783221.22997017,-16323778.810434842,-10354349.040289104,11828697.772202456,-7988286.659325312,2934938.3747646576,18782715.042567465,-10382156.649089262,-10242417.292296467,-10817538.309530836,-19821136.648534358,-13887941.372641826,-17932690.542819105,-9646423.870538358,19993436.956384186,-19652576.675575186,-10126934.452547526,3839208.862376577,8976614.494435232,-8169236.491609777,7366010.705790913,-19617444.244280823,-19727572.61652261,16461325.17325901,-19777221.10941641,20029237.304623302,17035678.086006906,-4290754.112881334,-8960406.37657573,-19638350.044651803,-19616453.500812765,-8163681.649019193,-12531825.07190001,13873592.290278576,16446909.299201284,19269426.120213814,-3066028.2071228167,13890891.33914785,-11201334.517938806,18258144.206102323,-8155822.492969188,14656736.039958334,17055359.37197916,13579241.292722998,-19309590.192492027,-19299949.924589332,18773854.01110032,18797075.256879795,-8197088.628206255,-15741678.061127735,7400920.498103682,15761270.291507354,3051701.3886577226,18832207.68817415,13381003.543518338,15972988.831047077,14491972.06163521,14035684.600822661,-5490934.070919933,18846512.24274109,16817848.10642263,-7669278.394559028,13961133.937838405,17976171.935922958,11117154.71900093,16873975.3936806,16348847.95976149,16340409.942359356,11561107.980233584,9220782.665541198,-18818515.390806578,-18828678.860316005,-1513956.2067375998,13440615.130838137,-8179132.7943413,-8032792.191744462,11312598.348986682,-8300671.414389395,-14446186.355071936,-19271218.364015583,14237840.796103245,-1520679.9039815138,14254382.872435123,-19908444.52516352,17814458.11164757,16484190.196667952,11097228.530148936,-17104406.739622675,-3792777.5027667037,16318858.48894178,14363520.501208851,-2851237.2496371954,18699236.556421585,15562921.222811898,-10452822.261844832,-10497105.155282399,-10470811.491557026,-10523287.499516975,15906798.261821399,-3746156.9000224797,15844915.75688942,-10465579.475489743,16224448.428800004,-3157232.2659297455,-10590758.24288678,16572221.649987271,-1413334.5190095599,-8029040.724904728,-10527105.758051185,-10479995.349547472,-10963711.932891482,18104078.030844428,16103488.670104034,18823524.76789228,16456026.365497254,12581774.127418952,-12115011.502522757,-14118940.44798695,-10511754.800270792,-10584012.281744706,13886304.976127166,-10482978.71190073,17000879.61318493,-19685415.925359197,15845483.486292463,15643995.20795664,14304365.323801303,-5491635.38371193,-7627299.814580885,-2839637.7586965365,16032244.19599634,15704630.934591737,-1731262.9847151493,-19543906.58866279,17209826.297403906,19677846.199985255,-7764823.913506894,958304.9684429747,927981.539150887,-7304629.138567501,-10560390.285798375,-19577959.220896453,-19556986.628831,-19347572.402750693,13686642.337440351,16384136.238342956,14606319.44257806,1868063.5069510029,13700479.350145955,14592938.839784708,6028117.405691953,5923410.2926518,6144858.15568686,13245249.424495943,18829524.888446037,18804589.322508343,-19287994.211278133,14217825.551658614,14211881.090850255,14221254.191975046,14223180.019165771,18805669.121569037,18797242.236115985,18810967.929330796,18794114.158424694,18796396.207985956,-11862683.612741644,-19276995.84558776,18808697.011718616,-19301107.647293583,-19786471.75910133,-6810348.335547209,18774644.379484948,-19875772.254615694,15972632.608676542,-19968746.293326236,15744806.138819026,-9371976.797936622,-1571185.556954422,5116154.741266219,16133622.856261773,-9404994.158905908,-19815515.014249295,-19093797.359589268,15997913.265035696,-1903663.4801066918,14391383.769754406,18758402.86577821,15645943.299045524,10573548.249610139,-8872942.652659455,14265381.238125501,18776581.338624753,18768288.036560655,18766718.431740474,18776425.491337646,18791709.65742356,-19486309.884126347,15551076.828991493,19760311.67876491,14511408.444727717,19207922.10155053,17057140.48383185,364526.8045516536,-1543366.8162051828,-8478025.62712124,16286175.086444875,14447221.626336314,16008065.60259604,-2608471.704115224,6379386.058890129,16437035.260367919,11891749.131787766,-8940079.43755688,-19900696.688604306,18968629.72414131,13766669.919371633,15609185.603185581,-19869683.078469306,15605556.58778572,-19360374.14419192,15607170.720402226,-19338555.52399644,18639658.36494903,-7910262.828228306,6376324.772893313,6378406.4473711485,240761.79468769205,18871904.218591034,12041907.992918814,-19763306.17306725,-16822913.143253725,-12725977.395792559,14702844.573044907,15879447.062933493,17878344.36741383,-19250691.049913306,8238176.652258052,14114409.744711664,-15826770.679890113,-13070077.073783645,16791877.269220557],\"pred_mag\":[5.850136724800972,5.869637793167875,5.896591561887881,5.931774818629581,5.9204458792780486,5.977812798605145,5.910032069885323,5.910032069885323,5.977812798605145,6.006335928391872,5.916505513438413,5.886087826361324,5.868567616698914,5.80780989024108,5.942132456877695,5.945455398749662,5.887046572987801,6.006268369617862,5.858204984034175,5.855713358672246,5.958731750060748,5.849078700450458,5.916505513438413,5.87390293081678,5.916505513438413,6.003372949651565,5.896993488968761,6.003372949651565,5.9494741251435235,5.898113198017969,5.8748484707727595,5.891089875445904,5.847409825767722,5.879057369549555,5.922296704858985,5.897932122677596,5.928827806278043,5.9025652547448075,5.846798337586659,5.894740366105152,5.87142297373229,5.867252064813497,5.944225585819977,5.950832702690947,5.879413528064533,5.87390293081678,5.936859776437045,5.9080981772186725,5.905726602622988,5.82134026606198,5.831597649552739,5.901480794026156,5.856738715553616,5.804048057210153,5.872753639573633,5.865304302341709,5.8748484707727595,5.991208756995459,5.954525984566282,5.80780989024108,5.87848227505868,5.871169055867766,5.856738715553616,5.936833541911592,5.873564390819221,5.90523841312938,5.84439008296867,5.839588551796629,5.873124225521566,5.829925912533955,5.9711839233861825,5.86727117702816,5.928147802782232,5.8449175882110795,5.843517321679741,5.955186748138996,5.966011164647431,5.961747020393352,5.84472038796816,5.876555711581125,5.9076899903355935,5.925099893939834,5.9646773100973025,5.954760826566739,5.901480794026156,5.9483246858687275,5.947443421061,5.881039463098647,5.857323469425305,5.96013456002165,5.96013456002165,5.882953333258991,5.85974783880072,5.85974783880072,5.841675176970719,5.858204984034175,5.832070350192206,6.003372949651565,5.964518376669698,5.828856401931425,5.955358066028433,5.796394697903611,5.921470871321424,5.937639544112956,5.937639544112956,5.916277947329509,5.80780989024108,5.955186748138996,5.8092267035602205,5.937639544112956,5.916277947329509,5.950832702690947,5.869044998552533,5.930964283118346,5.901561455231681,5.92482618247689,5.92482618247689,5.901561455231681,5.837435255225289,5.948687253386351,5.878528530595203,5.921776751753336,5.98219082881702,5.98219082881702,5.993107289659325,5.88852901638185,5.98219082881702,5.920987361371891,5.968424783460412,5.928386307771001,5.847042944623692,5.928386307771001,5.822799445543884,5.957952799440493,5.901793257840412,5.8577749855789945,5.902605960965207,5.921274701239094,5.906316706716493,5.880882621652124,5.89232173611571,5.855629214417613,5.8733228254109715,5.889534423190942,5.890102972555456,5.835908396877306,5.96375262333561,5.963009576919187,5.86074841260748,5.812464738212786,5.869352689090746,5.9438005478934395,5.905572901287719,5.870109427109102,5.866920842535319,5.817483251068478,5.80780989024108,5.853860752495608,5.892250493010803,5.916277947329509,5.951080766744295,6.020261367699761,5.853860752495608,5.88648028105167,5.9833366539463935,5.8361002252012435,5.807962569787971,5.802592605296516,5.867252064813497,5.875980769875317,5.846630725152759,5.854566312126661,5.927993718587058,5.853816784623416,5.868299550502219,5.842889136572106,5.816472405147783,5.823472139230951,5.855629214417613,5.90523841312938,5.894678574165057,5.881071163375677,5.8748484707727595,5.964686459156466,5.922945768531617,5.922945768531617,5.927934274452884,5.964243529961854,5.882953333258991,5.871132579502138,5.939741260126821,5.811224771906622,5.882953333258991,5.796394697903611,5.925942411957053,5.843482769884618,6.006274437302769,5.87815202273101,5.84472038796816,5.925071716391846,5.833500854047288,5.9438005478934395,5.938791975631053,5.871889800603741,5.802592605296516,5.838048346448874,5.929490863257841,5.898113198017969,5.920120528541111,5.842491144813385,5.905683174513958,5.957232011586263,5.9529130594089725,5.839556993790529,5.938791975631053,5.835472295524473,5.866776057123345,5.843880202898651,5.881062620803602,5.8644636562365875,5.987826232299255,5.914837209894938,5.914837209894938,5.914410622825082,5.953922669129694,5.953145580551427,5.953145580551427,5.8184888806920005,5.873290585334668,5.869855002757182,5.87232026137678,5.928338685099683,5.926587184892731,5.80780989024108,5.887519208689998,5.932835896465567,5.857702233600301,5.953109977217191,5.831597649552739,5.925942411957053,5.922287056802741,5.852911523485783,5.865304302341709,5.872107798011891,5.9573555456287455,5.91583291580795,5.912084491282878,5.900157607015373,5.952924778086131,5.88648028105167,5.889045243854894,5.9699175940946025,5.9699175940946025,5.865811316601556,5.872107798011891,5.8643660082103395,5.9699175940946025,5.933508120281071,5.870635729199426,5.889045243854894,5.982923216608816,5.830371780906252,5.937639544112956,5.889067465950112,5.9699175940946025,5.88648028105167,5.932807873570907,5.966464276927146,5.902747721824767,5.921647932921949,5.948646971308078,5.872574334615193,5.964857399594852,5.88648028105167,5.889067465950112,5.882953333258991,5.88648028105167,5.922296704858985,5.819572855548579,5.865811316601556,5.900972226119538,5.885583608349036,5.839556993790529,5.858204984034175,5.836748677043695,5.915437549345819,5.85930367835684,5.845033665517674,5.816472405147783,5.870109427109102,5.838512782320182,5.8595685323827205,5.868908951424864,5.848664193780786,5.89384925379716,5.88648028105167,5.888048015754718,5.79608465396967,5.812769738950679,5.84472038796816,5.905572901287719,5.9570716966010995,5.848664193780786,5.950876214462853,5.858412402005911,5.799863889194528,5.80035049603875,5.799863889194528,5.8449175882110795,5.968733870045229,5.908518097478608,5.829925912533955,5.896783190517553,5.896783190517553,5.896783190517553,5.9529130594089725,5.995787252498074,5.997532659898971,5.908518097478608,5.908518097478608,5.906242884154907,5.880882621652124,5.829925912533955,5.908518097478608,5.829925912533955,5.841675176970719,5.853478382581363,5.908518097478608,5.831597649552739,5.861451999115012,5.835658499505342,5.950833640189934,5.804048057210153,5.837435255225289,5.9482687496766875,5.970745297143314,5.961433329840861,5.828856401931425,5.812769738950679,5.838697488152159,5.847042944623692,5.902438962691724,5.908518097478608,5.855293407162398,5.917547972101679,5.866711827097302,5.899599046968497,5.997532659898971,5.997532659898971,5.906242884154907,5.908518097478608,5.908518097478608,5.887519208689998,5.881039463098647,5.969294531613797,5.95811327639399,5.976067391204248,5.881071163375677,5.872107798011891,5.832399573667389,5.947776994962408,5.909144693927463,5.852007608987334,5.861451999115012,5.836748677043695,5.904401530759313,5.866952749060128,5.8644636562365875,5.964686459156466,5.829929733561887,5.931128739116686,5.952479206103038,5.9548840907106655,5.8777916408514335,5.899308728920288,5.830100018125885,5.885293290300828,5.814638085503502,5.908392357914628,5.950648002474634,5.957644645671768,5.904401530759313,5.9281086048870755,5.997532659898971,5.8449175882110795,5.841675176970719,5.802592605296516,5.809166190414951,5.902445645980044,5.904030383645258,5.861660736964772,5.825991854987336,5.84118269277313,5.955401748225638,5.802592605296516,5.807962569787971,5.87011921559837],\"pred_mag_s\":[23.40054689920389,23.4785511726715,23.586366247551524,23.727099274518324,23.681783517112194,23.91125119442058,23.64012827954129,23.64012827954129,23.91125119442058,24.025343713567487,23.66602205375365,23.544351305445296,23.474270466795655,23.23123956096432,23.76852982751078,23.781821594998647,23.548186291951204,24.025073478471448,23.4328199361367,23.422853434688985,23.834927000242992,23.396314801801832,23.66602205375365,23.49561172326712,23.66602205375365,24.01349179860626,23.587973955875043,24.01349179860626,23.797896500574094,23.592452792071875,23.499393883091038,23.564359501783617,23.389639303070886,23.51622947819822,23.68918681943594,23.591728490710384,23.71531122511217,23.61026101897923,23.387193350346635,23.57896146442061,23.48569189492916,23.46900825925399,23.776902343279907,23.80333081076379,23.517654112258132,23.49561172326712,23.74743910574818,23.63239270887469,23.622906410491954,23.28536106424792,23.326390598210956,23.605923176104625,23.426954862214465,23.21619222884061,23.49101455829453,23.461217209366836,23.499393883091038,23.964835027981835,23.81810393826513,23.23123956096432,23.51392910023472,23.484676223471062,23.426954862214465,23.74733416764637,23.494257563276886,23.62095365251752,23.37756033187468,23.358354207186515,23.492496902086263,23.31970365013582,23.88473569354473,23.46908470811264,23.712591211128927,23.379670352844318,23.374069286718964,23.820746992555986,23.864044658589723,23.846988081573407,23.37888155187264,23.5062228463245,23.630759961342374,23.700399575759334,23.85870924038921,23.819043306266956,23.605923176104625,23.79329874347491,23.789773684244,23.524157852394588,23.42929387770122,23.8405382400866,23.8405382400866,23.531813333035963,23.43899135520288,23.43899135520288,23.366700707882877,23.4328199361367,23.328281400768823,24.01349179860626,23.858073506678792,23.3154256077257,23.82143226411373,23.185578791614443,23.685883485285697,23.750558176451825,23.750558176451825,23.665111789318036,23.23123956096432,23.820746992555986,23.236906814240882,23.750558176451825,23.665111789318036,23.80333081076379,23.47617999421013,23.723857132473384,23.606245820926723,23.69930472990756,23.69930472990756,23.606245820926723,23.349741020901156,23.794749013545403,23.51411412238081,23.687107007013346,23.92876331526808,23.92876331526808,23.9724291586373,23.5541160655274,23.92876331526808,23.683949445487563,23.873699133841647,23.713545231084005,23.38817177849477,23.713545231084005,23.291197782175537,23.831811197761972,23.607173031361647,23.431099942315978,23.61042384386083,23.685098804956375,23.62526682686597,23.523530486608497,23.56928694446284,23.422516857670452,23.493291301643886,23.55813769276377,23.560411890221825,23.343633587509224,23.85501049334244,23.852038307676747,23.44299365042992,23.249858952851145,23.477410756362985,23.775202191573758,23.622291605150878,23.48043770843641,23.467683370141277,23.269933004273913,23.23123956096432,23.415443009982432,23.56900197204321,23.665111789318036,23.80432306697718,24.081045470799044,23.415443009982432,23.54592112420668,23.933346615785574,23.344400900804974,23.231850279151885,23.210370421186063,23.46900825925399,23.503923079501266,23.386522900611038,23.418265248506643,23.711974874348233,23.415267138493665,23.473198202008877,23.371556546288424,23.265889620591132,23.293888556923804,23.422516857670452,23.62095365251752,23.578714296660227,23.524284653502708,23.499393883091038,23.858745836625864,23.69178307412647,23.69178307412647,23.711737097811536,23.856974119847415,23.531813333035963,23.484530318008552,23.758965040507285,23.24489908762649,23.531813333035963,23.185578791614443,23.703769647828214,23.373931079538472,24.025097749211078,23.51260809092404,23.37888155187264,23.700286865567385,23.33400341618915,23.775202191573758,23.755167902524214,23.487559202414964,23.210370421186063,23.352193385795495,23.717963453031363,23.592452792071875,23.680482114164445,23.36996457925354,23.62273269805583,23.82892804634505,23.81165223763589,23.358227975162116,23.755167902524214,23.34188918209789,23.46710422849338,23.375520811594605,23.52425048321441,23.45785462494635,23.95130492919702,23.659348839579753,23.659348839579753,23.65764249130033,23.815690676518777,23.812582322205706,23.812582322205706,23.273955522768002,23.49316234133867,23.47942001102873,23.48928104550712,23.71335474039873,23.706348739570924,23.23123956096432,23.55007683475999,23.73134358586227,23.430808934401202,23.812439908868765,23.326390598210956,23.703769647828214,23.689148227210964,23.411646093943133,23.461217209366836,23.488431192047564,23.829422182514982,23.6633316632318,23.64833796513151,23.600630428061493,23.811699112344524,23.54592112420668,23.556180975419576,23.87967037637841,23.87967037637841,23.463245266406226,23.488431192047564,23.457464032841358,23.87967037637841,23.734032481124284,23.482542916797705,23.556180975419576,23.931692866435263,23.32148712362501,23.750558176451825,23.55626986380045,23.87967037637841,23.54592112420668,23.731231494283627,23.865857107708585,23.610990887299067,23.686591731687795,23.79458788523231,23.49029733846077,23.859429598379407,23.54592112420668,23.55626986380045,23.531813333035963,23.54592112420668,23.68918681943594,23.278291422194314,23.463245266406226,23.60388890447815,23.542334433396142,23.358227975162116,23.4328199361367,23.34699470817478,23.661750197383277,23.43721471342736,23.380134662070695,23.265889620591132,23.48043770843641,23.354051129280727,23.438274129530882,23.475635805699454,23.394656775123146,23.57539701518864,23.54592112420668,23.55219206301887,23.18433861587868,23.251078955802715,23.37888155187264,23.622291605150878,23.828286786404398,23.394656775123146,23.80350485785141,23.433649608023643,23.199455556778112,23.201401984155,23.199455556778112,23.379670352844318,23.874935480180916,23.634072389914433,23.31970365013582,23.587132762070212,23.587132762070212,23.587132762070212,23.81165223763589,23.983149009992296,23.990130639595883,23.634072389914433,23.634072389914433,23.62497153661963,23.523530486608497,23.31970365013582,23.634072389914433,23.31970365013582,23.366700707882877,23.413913530325452,23.634072389914433,23.326390598210956,23.445807996460047,23.34263399802137,23.803334560759737,23.21619222884061,23.349741020901156,23.79307499870675,23.882981188573257,23.845733319363443,23.3154256077257,23.251078955802715,23.354789952608638,23.38817177849477,23.609755850766895,23.634072389914433,23.42117362864959,23.670191888406716,23.46684730838921,23.598396187873988,23.990130639595883,23.990130639595883,23.62497153661963,23.634072389914433,23.634072389914433,23.55007683475999,23.524157852394588,23.87717812645519,23.83245310557596,23.904269564816992,23.524284653502708,23.488431192047564,23.329598294669555,23.79110797984963,23.636578775709854,23.408030435949335,23.445807996460047,23.34699470817478,23.617606123037252,23.467810996240512,23.45785462494635,23.858745836625864,23.319718934247547,23.724514956466745,23.809916824412152,23.819536362842662,23.511166563405734,23.597234915681153,23.32040007250354,23.54117316120331,23.258552342014006,23.63356943165851,23.802592009898536,23.83057858268707,23.617606123037252,23.712434419548302,23.990130639595883,23.379670352844318,23.366700707882877,23.210370421186063,23.236664761659803,23.609782583920175,23.616121534581033,23.44664294785909,23.303967419949345,23.36473077109252,23.821606992902552,23.210370421186063,23.231850279151885,23.48047686239348],\"year\":[2017,2017,2017,2017,2017,2017,2017,2017,2017,2017,2017,2017,2017,2017,2017,2017,2017,2017,2017,2017,2017,2017,2017,2017,2017,2017,2017,2017,2017,2017,2017,2017,2017,2017,2017,2017,2017,2017,2017,2017,2017,2017,2017,2017,2017,2017,2017,2017,2017,2017,2017,2017,2017,2017,2017,2017,2017,2017,2017,2017,2017,2017,2017,2017,2017,2017,2017,2017,2017,2017,2017,2017,2017,2017,2017,2017,2017,2017,2017,2017,2017,2017,2017,2017,2017,2017,2017,2017,2017,2017,2017,2017,2017,2017,2017,2017,2017,2017,2017,2017,2017,2017,2017,2017,2017,2017,2017,2017,2017,2017,2017,2017,2017,2017,2017,2017,2017,2017,2017,2017,2017,2017,2017,2017,2017,2017,2017,2017,2017,2017,2017,2017,2017,2017,2017,2017,2017,2017,2017,2017,2017,2017,2017,2017,2017,2017,2017,2017,2017,2017,2017,2017,2017,2017,2017,2017,2017,2017,2017,2017,2017,2017,2017,2017,2017,2017,2017,2017,2017,2017,2017,2017,2017,2017,2017,2017,2017,2017,2017,2017,2017,2017,2017,2017,2017,2017,2017,2017,2017,2017,2017,2017,2017,2017,2017,2017,2017,2017,2017,2017,2017,2017,2017,2017,2017,2017,2017,2017,2017,2017,2017,2017,2017,2017,2017,2017,2017,2017,2017,2017,2017,2017,2017,2017,2017,2017,2017,2017,2017,2017,2017,2017,2017,2017,2017,2017,2017,2017,2017,2017,2017,2017,2017,2017,2017,2017,2017,2017,2017,2017,2017,2017,2017,2017,2017,2017,2017,2017,2017,2017,2017,2017,2017,2017,2017,2017,2017,2017,2017,2017,2017,2017,2017,2017,2017,2017,2017,2017,2017,2017,2017,2017,2017,2017,2017,2017,2017,2017,2017,2017,2017,2017,2017,2017,2017,2017,2017,2017,2017,2017,2017,2017,2017,2017,2017,2017,2017,2017,2017,2017,2017,2017,2017,2017,2017,2017,2017,2017,2017,2017,2017,2017,2017,2017,2017,2017,2017,2017,2017,2017,2017,2017,2017,2017,2017,2017,2017,2017,2017,2017,2017,2017,2017,2017,2017,2017,2017,2017,2017,2017,2017,2017,2017,2017,2017,2017,2017,2017,2017,2017,2017,2017,2017,2017,2017,2017,2017,2017,2017,2017,2017,2017,2017,2017,2017,2017,2017,2017,2017,2017,2017,2017,2017,2017,2017,2017,2017,2017,2017,2017,2017,2017,2017,2017,2017,2017,2017]},\"selected\":{\"id\":\"3724\",\"type\":\"Selection\"},\"selection_policy\":{\"id\":\"3725\",\"type\":\"UnionRenderers\"}},\"id\":\"3521\",\"type\":\"ColumnDataSource\"},{\"attributes\":{\"axis_label\":\"Number of Occurances\",\"axis_label_standoff\":10,\"axis_label_text_color\":{\"value\":\"#E0E0E0\"},\"axis_label_text_font\":\"Helvetica\",\"axis_label_text_font_size\":{\"value\":\"14pt\"},\"axis_label_text_font_style\":\"bold\",\"axis_line_alpha\":{\"value\":0},\"axis_line_color\":{\"value\":\"#E0E0E0\"},\"formatter\":{\"id\":\"3636\",\"type\":\"BasicTickFormatter\"},\"major_label_text_color\":{\"value\":\"#E0E0E0\"},\"major_label_text_font\":\"Helvetica\",\"major_label_text_font_size\":{\"value\":\"12pt\"},\"major_tick_line_alpha\":{\"value\":0},\"major_tick_line_color\":{\"value\":\"#E0E0E0\"},\"minor_tick_line_alpha\":{\"value\":0},\"minor_tick_line_color\":{\"value\":\"#E0E0E0\"},\"plot\":{\"id\":\"3591\",\"subtype\":\"Figure\",\"type\":\"Plot\"},\"ticker\":{\"id\":\"3607\",\"type\":\"BasicTicker\"}},\"id\":\"3606\",\"type\":\"LinearAxis\"},{\"attributes\":{\"align\":\"center\",\"plot\":null,\"text\":\"Frequency of Earthquakes by Year\",\"text_color\":{\"value\":\"#E0E0E0\"},\"text_font\":\"serif\",\"text_font_size\":{\"value\":\"20pt\"}},\"id\":\"3590\",\"type\":\"Title\"},{\"attributes\":{\"source\":{\"id\":\"3520\",\"type\":\"ColumnDataSource\"}},\"id\":\"3564\",\"type\":\"CDSView\"},{\"attributes\":{},\"id\":\"3667\",\"type\":\"ResetTool\"},{\"attributes\":{\"label\":{\"value\":\"Max Magnitude\"},\"renderers\":[{\"id\":\"3683\",\"type\":\"GlyphRenderer\"}]},\"id\":\"3692\",\"type\":\"LegendItem\"},{\"attributes\":{\"data_source\":{\"id\":\"3641\",\"type\":\"ColumnDataSource\"},\"glyph\":{\"id\":\"3713\",\"type\":\"Circle\"},\"hover_glyph\":null,\"muted_glyph\":null,\"nonselection_glyph\":{\"id\":\"3714\",\"type\":\"Circle\"},\"selection_glyph\":null,\"view\":{\"id\":\"3716\",\"type\":\"CDSView\"}},\"id\":\"3715\",\"type\":\"GlyphRenderer\"},{\"attributes\":{\"background_fill_alpha\":{\"value\":0.25},\"background_fill_color\":{\"value\":\"#20262B\"},\"border_line_alpha\":{\"value\":0},\"glyph_width\":15,\"items\":[{\"id\":\"3640\",\"type\":\"LegendItem\"}],\"label_standoff\":8,\"label_text_color\":{\"value\":\"#E0E0E0\"},\"label_text_font\":\"Helvetica\",\"label_text_font_size\":{\"value\":\"1.025em\"},\"location\":\"top_left\",\"plot\":{\"id\":\"3591\",\"subtype\":\"Figure\",\"type\":\"Plot\"},\"spacing\":8},\"id\":\"3639\",\"type\":\"Legend\"},{\"attributes\":{},\"id\":\"3649\",\"type\":\"LinearScale\"},{\"attributes\":{\"callback\":null,\"data\":{\"lat\":[-6543390.724483237,-3328358.0702136224,5591172.898038173,2851640.5215679468,3582617.0285600303,-7225385.693391577,2519559.275530917,-3589189.5968190334,-7895731.329585679,434091.130985274,5539417.811527147,-3676788.280848081,4383206.456763607,-3600829.447882163,2946475.6765804114,2624462.067661116,-1919649.3727256414,-1714752.0518279816,-738658.6098666815,-3577327.8402285944,-1077518.9345580437,-3886984.5412093443,-551952.8806289821,-534289.4164623911,-1092279.3816380876,-370880.47196445666,-345125.133793962,-3890327.522750172,-1701661.4348117206,6701229.281034023,6721815.015535953,3945945.23053972,-374080.791003844,7761753.97926687,-1611357.202772603,468775.96792111447,-1591614.9794630976,-1582053.595071207,-1597470.6170010692,-916356.9030152019,-672409.5786799104,-1571979.4590359947,-462257.586109796,1811174.038604051,4365832.938958695,6643310.475927785,6773859.823305286,-418505.0455930204,-7410479.387446073,-560233.0274267893,-677928.4070738676,5418424.9975573495,-7511617.038765008,-1672495.0545528778,1548060.141959909,-999439.4980835484,2081535.6065417049,1852333.4820856596,-8997877.969353518,2838365.246911671,2836895.013382633,-3532220.974959881,-233455.68729851866,2040088.6479005006,-3419298.4832275123,-511168.83740093646,-1996283.2379809062,-3506570.907184386,-3509116.8698924873,-5645608.880689954,2080163.2375550573,2096579.1308771288,142378.32007136501,-452447.43496013916,-1260322.1273079962,1440522.2984627502,-969486.3282046615,-832620.1045632168,-1860667.204540434,-1189867.89525655,-7713171.987908111,-45318.54601658557,-4274618.876232512,-1692473.3553627734,-1698767.4525167744,-1645353.0122122725,65390.214373085604,64699.99763943559,-718310.979350528,-2749095.058186247,-8126461.540002937,-2551709.5517699746,2868953.7923551914,-2744089.018216976,-2568831.740902209,-2897353.1892552385,-4489209.573341354,-4500545.7623202745,-4470697.205647996,-4441532.400450267,-4446385.293838093,-4442926.682361412,-4471340.325008444,61594.03159729839,-4483469.075802989,-7426079.75738785,-2213915.801501731,4912675.02068954,4359273.23933069,2306420.320560517,938327.8076290637,-4456823.764446551,7249204.8093854645,-1219510.091862458,-7287232.027312336,-3681872.3599156886,-621364.074218154,-115277.60839181444,-3344525.2231373596,-2714535.8476083255,3230314.566706101,797189.2654855343,2586827.7678902973,-450405.18369439204,-4304433.519025345,-4456418.872302224,197100.25765049175,-1732109.4437709805,-603705.6005118577,-680771.976234633,-4176730.7437068527,-905830.9111608852,-7991177.156025094,-4380392.084819088,-528290.8084284626,-6454454.065666398,-2323743.5323901074,4649917.791428913,-2871569.0678798584,681925.11549967,-4191379.7565639713,-1725206.5409805682,6846037.379623727,-2588190.6188395876,502022.99706885614,-816613.0848425829,1235690.5297297353,588980.6922978276,5438076.329098564,4932064.174315522,-1195690.063706147,-1144151.1386994515,-1217265.6283307744,-1214148.5648662208,-1203654.6642516751,-1240091.3303174912,-1228920.328684846,-1227026.7319589504,-1163431.2025315375,-1156222.5862376215,-1218829.9356544984,-631017.2840090224,-1019965.3263767234,-1228024.5420570814],\"lon\":[15523380.539682128,-19734830.64732233,14464921.425372442,10425125.972535465,14775847.895107137,-15168427.211338695,15986681.128414653,-7974739.077295771,-16469562.815577714,14122224.37296535,15705699.601703351,6477859.280445858,7898151.267629998,-20031986.896045897,13742123.971651718,13425286.436955903,19474109.267935403,-19302254.23804875,17225811.77628182,-7968672.165047537,13291691.916054895,-19857794.15685258,10500756.434580415,10509684.257742038,13950113.30824987,16567067.557563543,16568659.426281884,-19839560.024260644,-19305927.781244926,-19366530.112032786,-19363168.263410825,15182876.481243663,16128747.062565029,-17580920.951912362,18574224.76826074,14098780.48820429,18557092.698627654,18548554.493683815,18550179.758249395,11954121.442479238,14519356.656370355,18545192.645061854,11378076.473471284,-10715202.301644579,7918277.831565422,19986234.58532986,19667348.77200345,-11570180.518733237,16272037.51111413,11647035.495176913,-11929341.723828655,16420326.20479985,-16019486.98235143,18583019.00803341,5762820.795233425,-12049121.495922217,-11726072.333640138,-10891677.090399155,18406009.885723025,13579185.632977603,13586888.9417405,-19809804.324371602,11206021.0685012,-11781364.724717155,-7999351.816710162,13984666.878192104,-19217272.938777164,-19796601.83276352,-7955291.562254186,18571230.273958404,-11707815.93715004,-11711155.521873841,14067577.634934934,-11638797.852858212,12942772.10411246,-9680710.273702689,17873346.12227721,-1513978.4706357587,-19727394.505337343,18364176.02108291,-15816250.988010151,-8995449.752277454,-11493859.875845369,-19244512.81817428,-19280658.256834853,18633290.890075654,-8865016.704914976,-8865261.60779472,16415327.95966323,9190147.54167489,-2844146.1980736633,-7347954.684384244,15808937.297465034,9176510.904052714,19271262.891811904,-19741765.851598755,19942452.629600868,19981191.812396925,19936541.56463974,19914021.631652266,19918296.30009873,19928181.470881168,19881972.75025288,10977715.924833277,19894440.53322173,-3441764.884397353,-19336852.3357873,-13991487.056038685,-10790098.055050293,16407992.005219955,14013721.265289148,19892637.157470874,18761953.95753452,18476820.213816624,17667805.814476512,-7327650.009263551,-8566435.566709256,3519710.791850803,-12501768.809385827,-19472684.37845325,15801156.065058582,-3821998.8690999374,13518193.683971971,-11567976.39281553,-11244292.709435929,19886113.83531039,14187557.782111922,-19460851.116581924,17088142.96201778,16548621.9179391,-7908771.147051676,11670746.546715882,16496580.055993244,-8188695.138600441,16683596.80052594,12732912.600068979,-19839693.6076496,15759032.769742409,19902288.557322655,-9193943.53631094,6013690.399685146,-7884425.574415187,19388493.4475663,-19629867.499453355,14230438.049965493,13734621.037972253,-6779412.649055758,10705350.526709374,9611892.564494286,-14047807.293370048,17958216.102058005,17931254.52138787,17948063.764497656,17957358.941978898,17937087.66270544,17973066.122129828,17956935.92791388,17962412.84686091,17959062.130188033,17961410.97144377,17953485.023699287,17195900.229105666,-12228357.008048467,17986146.162298035],\"mag\":[6.3,5.8,5.8,6.7,5.8,6.0,5.7,5.7,5.6,6.5,6.2,5.9,5.7,6.2,5.7,6.4,5.7,5.8,6.4,6.3,6.3,5.6,7.8,5.6,5.6,5.9,5.6,5.5,5.9,5.6,6.3,5.9,6.2,5.9,6.9,5.9,5.8,6.7,5.9,6.1,5.5,6.7,5.7,5.5,6.6,5.6,5.6,5.8,5.5,5.7,5.6,5.7,5.5,5.7,5.5,5.6,5.6,5.8,5.5,5.8,5.7,5.5,6.6,5.8,5.8,6.3,5.6,6.1,5.5,5.5,6.3,5.5,6.3,5.9,6.1,6.1,6.2,5.5,5.8,5.9,5.8,5.5,5.6,5.8,6.0,5.6,5.9,6.3,5.6,5.6,5.6,6.2,6.3,5.5,7.2,6.1,7.0,5.5,5.5,5.7,6.1,5.5,5.5,5.5,5.5,5.5,5.5,5.64,5.8,5.5,5.8,5.9,6.1,5.6,6.1,5.6,6.1,5.9,5.8,5.6,5.7,5.5,5.8,5.6,5.6,5.8,5.8,5.6,5.6,6.0,6.3,5.8,5.7,6.0,5.9,5.7,5.6,6.1,5.9,5.6,5.5,6.2,5.9,5.5,5.7,6.3,5.9,6.5,6.0,6.6,7.8,5.7,5.5,6.5,6.9,5.5,5.5,5.8,5.5,5.6,5.8,6.0,5.8,5.5],\"mag_s\":[25.2,23.2,23.2,26.8,23.2,24.0,22.8,22.8,22.4,26.0,24.8,23.6,22.8,24.8,22.8,25.6,22.8,23.2,25.6,25.2,25.2,22.4,31.2,22.4,22.4,23.6,22.4,22.0,23.6,22.4,25.2,23.6,24.8,23.6,27.6,23.6,23.2,26.8,23.6,24.4,22.0,26.8,22.8,22.0,26.4,22.4,22.4,23.2,22.0,22.8,22.4,22.8,22.0,22.8,22.0,22.4,22.4,23.2,22.0,23.2,22.8,22.0,26.4,23.2,23.2,25.2,22.4,24.4,22.0,22.0,25.2,22.0,25.2,23.6,24.4,24.4,24.8,22.0,23.2,23.6,23.2,22.0,22.4,23.2,24.0,22.4,23.6,25.2,22.4,22.4,22.4,24.8,25.2,22.0,28.8,24.4,28.0,22.0,22.0,22.8,24.4,22.0,22.0,22.0,22.0,22.0,22.0,22.56,23.2,22.0,23.2,23.6,24.4,22.4,24.4,22.4,24.4,23.6,23.2,22.4,22.8,22.0,23.2,22.4,22.4,23.2,23.2,22.4,22.4,24.0,25.2,23.2,22.8,24.0,23.6,22.8,22.4,24.4,23.6,22.4,22.0,24.8,23.6,22.0,22.8,25.2,23.6,26.0,24.0,26.4,31.2,22.8,22.0,26.0,27.6,22.0,22.0,23.2,22.0,22.4,23.2,24.0,23.2,22.0],\"year\":[2016.0,2016.0,2016.0,2016.0,2016.0,2016.0,2016.0,2016.0,2016.0,2016.0,2016.0,2016.0,2016.0,2016.0,2016.0,2016.0,2016.0,2016.0,2016.0,2016.0,2016.0,2016.0,2016.0,2016.0,2016.0,2016.0,2016.0,2016.0,2016.0,2016.0,2016.0,2016.0,2016.0,2016.0,2016.0,2016.0,2016.0,2016.0,2016.0,2016.0,2016.0,2016.0,2016.0,2016.0,2016.0,2016.0,2016.0,2016.0,2016.0,2016.0,2016.0,2016.0,2016.0,2016.0,2016.0,2016.0,2016.0,2016.0,2016.0,2016.0,2016.0,2016.0,2016.0,2016.0,2016.0,2016.0,2016.0,2016.0,2016.0,2016.0,2016.0,2016.0,2016.0,2016.0,2016.0,2016.0,2016.0,2016.0,2016.0,2016.0,2016.0,2016.0,2016.0,2016.0,2016.0,2016.0,2016.0,2016.0,2016.0,2016.0,2016.0,2016.0,2016.0,2016.0,2016.0,2016.0,2016.0,2016.0,2016.0,2016.0,2016.0,2016.0,2016.0,2016.0,2016.0,2016.0,2016.0,2016.0,2016.0,2016.0,2016.0,2016.0,2016.0,2016.0,2016.0,2016.0,2016.0,2016.0,2016.0,2016.0,2016.0,2016.0,2016.0,2016.0,2016.0,2016.0,2016.0,2016.0,2016.0,2016.0,2016.0,2016.0,2016.0,2016.0,2016.0,2016.0,2016.0,2016.0,2016.0,2016.0,2016.0,2016.0,2016.0,2016.0,2016.0,2016.0,2016.0,2016.0,2016.0,2016.0,2016.0,2016.0,2016.0,2016.0,2016.0,2016.0,2016.0,2016.0,2016.0,2016.0,2016.0,2016.0,2016.0,2016.0]},\"selected\":{\"id\":\"3583\",\"type\":\"Selection\"},\"selection_policy\":{\"id\":\"3584\",\"type\":\"UnionRenderers\"}},\"id\":\"3520\",\"type\":\"ColumnDataSource\"},{\"attributes\":{\"align\":\"center\",\"plot\":null,\"text\":\"Maximum and Average Magnitude by Year\",\"text_color\":{\"value\":\"#E0E0E0\"},\"text_font\":\"serif\",\"text_font_size\":{\"value\":\"20pt\"}},\"id\":\"3642\",\"type\":\"Title\"},{\"attributes\":{\"dimension\":1,\"grid_line_alpha\":{\"value\":0.25},\"grid_line_color\":{\"value\":\"#E0E0E0\"},\"plot\":{\"id\":\"3591\",\"subtype\":\"Figure\",\"type\":\"Plot\"},\"ticker\":{\"id\":\"3607\",\"type\":\"BasicTicker\"}},\"id\":\"3610\",\"type\":\"Grid\"},{\"attributes\":{\"callback\":null,\"data\":{\"numQuakes\":[156,98,103,106,114,142,148,178,144,147,150,173,148,158,118,120,117,135,177,161,210,175,213,196,177,196,168,190,197,215,205,242,183,154,170,213,157,182,187,227,230,176,211,214,228,211,360,182,202,198,175,164],\"yrs\":[1965,1966,1967,1968,1969,1970,1971,1972,1973,1974,1975,1976,1977,1978,1979,1980,1981,1982,1983,1984,1985,1986,1987,1988,1989,1990,1991,1992,1993,1994,1995,1996,1997,1998,1999,2000,2001,2002,2003,2004,2005,2006,2007,2008,2009,2010,2011,2012,2013,2014,2015,2016]},\"selected\":{\"id\":\"3734\",\"type\":\"Selection\"},\"selection_policy\":{\"id\":\"3735\",\"type\":\"UnionRenderers\"}},\"id\":\"3589\",\"type\":\"ColumnDataSource\"},{\"attributes\":{\"overlay\":{\"id\":\"3672\",\"type\":\"BoxAnnotation\"}},\"id\":\"3665\",\"type\":\"BoxZoomTool\"},{\"attributes\":{},\"id\":\"3708\",\"type\":\"Selection\"},{\"attributes\":{\"label\":{\"value\":\"Quakes 2016\"},\"renderers\":[{\"id\":\"3563\",\"type\":\"GlyphRenderer\"}]},\"id\":\"3572\",\"type\":\"LegendItem\"},{\"attributes\":{\"background_fill_color\":{\"value\":\"#20262B\"},\"below\":[{\"id\":\"3601\",\"type\":\"LinearAxis\"}],\"border_fill_color\":{\"value\":\"#15191C\"},\"left\":[{\"id\":\"3606\",\"type\":\"LinearAxis\"}],\"outline_line_alpha\":{\"value\":0.25},\"outline_line_color\":{\"value\":\"#E0E0E0\"},\"plot_height\":400,\"plot_width\":1150,\"renderers\":[{\"id\":\"3601\",\"type\":\"LinearAxis\"},{\"id\":\"3605\",\"type\":\"Grid\"},{\"id\":\"3606\",\"type\":\"LinearAxis\"},{\"id\":\"3610\",\"type\":\"Grid\"},{\"id\":\"3620\",\"type\":\"BoxAnnotation\"},{\"id\":\"3639\",\"type\":\"Legend\"},{\"id\":\"3631\",\"type\":\"GlyphRenderer\"}],\"title\":{\"id\":\"3590\",\"type\":\"Title\"},\"toolbar\":{\"id\":\"3618\",\"type\":\"Toolbar\"},\"toolbar_location\":null,\"x_range\":{\"id\":\"3593\",\"type\":\"DataRange1d\"},\"x_scale\":{\"id\":\"3597\",\"type\":\"LinearScale\"},\"y_range\":{\"id\":\"3595\",\"type\":\"Range1d\"},\"y_scale\":{\"id\":\"3599\",\"type\":\"LinearScale\"}},\"id\":\"3591\",\"subtype\":\"Figure\",\"type\":\"Plot\"},{\"attributes\":{\"fill_color\":{\"value\":\"#cc0000\"},\"line_color\":{\"value\":\"#cc0000\"},\"size\":{\"units\":\"screen\",\"value\":8},\"x\":{\"field\":\"yrs\"},\"y\":{\"field\":\"max_mag\"}},\"id\":\"3694\",\"type\":\"Circle\"},{\"attributes\":{},\"id\":\"3566\",\"type\":\"BasicTickFormatter\"},{\"attributes\":{\"axis_label\":null,\"axis_label_standoff\":10,\"axis_label_text_color\":{\"value\":\"#E0E0E0\"},\"axis_label_text_font\":\"Helvetica\",\"axis_label_text_font_size\":{\"value\":\"1.25em\"},\"axis_label_text_font_style\":\"normal\",\"axis_line_alpha\":{\"value\":0},\"axis_line_color\":{\"value\":\"#E0E0E0\"},\"formatter\":{\"id\":\"3568\",\"type\":\"BasicTickFormatter\"},\"major_label_text_color\":{\"value\":\"#E0E0E0\"},\"major_label_text_font\":\"Helvetica\",\"major_label_text_font_size\":{\"value\":\"1.025em\"},\"major_tick_line_alpha\":{\"value\":0},\"major_tick_line_color\":{\"value\":\"#E0E0E0\"},\"minor_tick_line_alpha\":{\"value\":0},\"minor_tick_line_color\":{\"value\":\"#E0E0E0\"},\"plot\":{\"id\":\"3523\",\"subtype\":\"Figure\",\"type\":\"Plot\"},\"ticker\":{\"id\":\"3539\",\"type\":\"BasicTicker\"},\"visible\":false},\"id\":\"3538\",\"type\":\"LinearAxis\"},{\"attributes\":{},\"id\":\"3568\",\"type\":\"BasicTickFormatter\"},{\"attributes\":{},\"id\":\"3634\",\"type\":\"BasicTickFormatter\"},{\"attributes\":{},\"id\":\"3612\",\"type\":\"WheelZoomTool\"},{\"attributes\":{\"background_fill_alpha\":{\"value\":0.25},\"background_fill_color\":{\"value\":\"#20262B\"},\"border_line_alpha\":{\"value\":0},\"glyph_width\":15,\"items\":[{\"id\":\"3692\",\"type\":\"LegendItem\"},{\"id\":\"3711\",\"type\":\"LegendItem\"}],\"label_standoff\":8,\"label_text_color\":{\"value\":\"#E0E0E0\"},\"label_text_font\":\"Helvetica\",\"label_text_font_size\":{\"value\":\"1.025em\"},\"location\":\"top_left\",\"plot\":{\"id\":\"3643\",\"subtype\":\"Figure\",\"type\":\"Plot\"},\"spacing\":8},\"id\":\"3691\",\"type\":\"Legend\"},{\"attributes\":{\"callback\":null,\"data\":{\"avg_mag\":[6.0,6.1,6.0,6.1,6.0,6.0,6.0,5.9,5.8,5.9,5.8,5.8,5.8,5.8,5.8,5.8,5.8,5.8,5.9,5.8,5.9,5.8,5.9,5.9,5.8,5.9,5.9,5.9,5.9,5.9,5.9,5.9,5.8,5.9,5.9,5.9,5.9,5.9,5.9,5.9,5.9,5.8,5.9,5.9,5.9,5.9,5.9,5.9,5.9,5.9,5.8,5.9],\"max_mag\":[8.7,7.7,7.2,7.6,7.5,7.4,7.8,8.0,7.4,7.6,7.8,7.5,7.6,7.7,7.9,7.5,7.7,7.1,7.4,7.6,8.0,8.0,7.6,7.8,7.4,7.6,7.1,7.8,7.8,8.3,8.0,7.9,7.8,7.5,7.4,7.9,7.6,7.9,7.6,7.5,7.6,8.0,8.4,7.9,7.8,7.8,9.1,8.6,8.0,8.2,7.5,7.8],\"yrs\":[1965,1966,1967,1968,1969,1970,1971,1972,1973,1974,1975,1976,1977,1978,1979,1980,1981,1982,1983,1984,1985,1986,1987,1988,1989,1990,1991,1992,1993,1994,1995,1996,1997,1998,1999,2000,2001,2002,2003,2004,2005,2006,2007,2008,2009,2010,2011,2012,2013,2014,2015,2016]},\"selected\":{\"id\":\"3708\",\"type\":\"Selection\"},\"selection_policy\":{\"id\":\"3709\",\"type\":\"UnionRenderers\"}},\"id\":\"3641\",\"type\":\"ColumnDataSource\"},{\"attributes\":{\"data_source\":{\"id\":\"3641\",\"type\":\"ColumnDataSource\"},\"glyph\":{\"id\":\"3681\",\"type\":\"Line\"},\"hover_glyph\":null,\"muted_glyph\":null,\"nonselection_glyph\":{\"id\":\"3682\",\"type\":\"Line\"},\"selection_glyph\":null,\"view\":{\"id\":\"3684\",\"type\":\"CDSView\"}},\"id\":\"3683\",\"type\":\"GlyphRenderer\"},{\"attributes\":{\"data_source\":{\"id\":\"3520\",\"type\":\"ColumnDataSource\"},\"glyph\":{\"id\":\"3561\",\"type\":\"Circle\"},\"hover_glyph\":null,\"muted_glyph\":null,\"nonselection_glyph\":{\"id\":\"3562\",\"type\":\"Circle\"},\"selection_glyph\":null,\"view\":{\"id\":\"3564\",\"type\":\"CDSView\"}},\"id\":\"3563\",\"type\":\"GlyphRenderer\"},{\"attributes\":{\"fill_alpha\":{\"value\":0.1},\"fill_color\":{\"value\":\"#1f77b4\"},\"line_alpha\":{\"value\":0.1},\"line_color\":{\"value\":\"#1f77b4\"},\"size\":{\"units\":\"screen\",\"value\":8},\"x\":{\"field\":\"yrs\"},\"y\":{\"field\":\"avg_mag\"}},\"id\":\"3714\",\"type\":\"Circle\"},{\"attributes\":{},\"id\":\"3636\",\"type\":\"BasicTickFormatter\"},{\"attributes\":{\"line_color\":\"#cc0000\",\"line_width\":2,\"x\":{\"field\":\"yrs\"},\"y\":{\"field\":\"max_mag\"}},\"id\":\"3681\",\"type\":\"Line\"},{\"attributes\":{\"source\":{\"id\":\"3641\",\"type\":\"ColumnDataSource\"}},\"id\":\"3702\",\"type\":\"CDSView\"},{\"attributes\":{},\"id\":\"3666\",\"type\":\"SaveTool\"},{\"attributes\":{\"callback\":null,\"end\":10.1,\"start\":5},\"id\":\"3647\",\"type\":\"Range1d\"},{\"attributes\":{},\"id\":\"3607\",\"type\":\"BasicTicker\"},{\"attributes\":{\"source\":{\"id\":\"3589\",\"type\":\"ColumnDataSource\"}},\"id\":\"3632\",\"type\":\"CDSView\"},{\"attributes\":{},\"id\":\"3663\",\"type\":\"PanTool\"},{\"attributes\":{},\"id\":\"3614\",\"type\":\"SaveTool\"},{\"attributes\":{},\"id\":\"3688\",\"type\":\"BasicTickFormatter\"},{\"attributes\":{\"label\":{\"value\":\"Predicted Quakes 2017\"},\"renderers\":[{\"id\":\"3576\",\"type\":\"GlyphRenderer\"}]},\"id\":\"3586\",\"type\":\"LegendItem\"},{\"attributes\":{\"callback\":null,\"end\":7000000,\"start\":-1000000},\"id\":\"3527\",\"type\":\"Range1d\"},{\"attributes\":{\"bottom_units\":\"screen\",\"fill_alpha\":{\"value\":0.5},\"fill_color\":{\"value\":\"lightgrey\"},\"left_units\":\"screen\",\"level\":\"overlay\",\"line_alpha\":{\"value\":1.0},\"line_color\":{\"value\":\"black\"},\"line_dash\":[4,4],\"line_width\":{\"value\":2},\"plot\":null,\"render_mode\":\"css\",\"right_units\":\"screen\",\"top_units\":\"screen\"},\"id\":\"3552\",\"type\":\"BoxAnnotation\"},{\"attributes\":{\"grid_line_alpha\":{\"value\":0.25},\"grid_line_color\":{\"value\":null},\"plot\":{\"id\":\"3523\",\"subtype\":\"Figure\",\"type\":\"Plot\"},\"ticker\":{\"id\":\"3534\",\"type\":\"BasicTicker\"}},\"id\":\"3537\",\"type\":\"Grid\"},{\"attributes\":{\"callback\":null},\"id\":\"3645\",\"type\":\"DataRange1d\"},{\"attributes\":{\"fill_alpha\":{\"value\":7.0},\"fill_color\":{\"value\":\"#ccff33\"},\"line_color\":{\"value\":\"#1f77b4\"},\"size\":{\"field\":\"pred_mag_s\",\"units\":\"screen\"},\"x\":{\"field\":\"pred_long\"},\"y\":{\"field\":\"pred_lat\"}},\"id\":\"3574\",\"type\":\"Circle\"},{\"attributes\":{},\"id\":\"3664\",\"type\":\"WheelZoomTool\"},{\"attributes\":{\"dimension\":1,\"grid_line_alpha\":{\"value\":0.25},\"grid_line_color\":{\"value\":\"#E0E0E0\"},\"plot\":{\"id\":\"3643\",\"subtype\":\"Figure\",\"type\":\"Plot\"},\"ticker\":{\"id\":\"3659\",\"type\":\"BasicTicker\"}},\"id\":\"3662\",\"type\":\"Grid\"},{\"attributes\":{\"tile_source\":{\"id\":\"3519\",\"type\":\"WMTSTileSource\"}},\"id\":\"3587\",\"type\":\"TileRenderer\"}],\"root_ids\":[\"3751\"]},\"title\":\"Bokeh Application\",\"version\":\"1.0.2\"}};\n",
       "  var render_items = [{\"docid\":\"4bf2e978-c32c-466c-a638-cc44b872c43b\",\"roots\":{\"3751\":\"92a0c4f9-1827-4bb5-bae0-c4e7914364ad\"}}];\n",
       "  root.Bokeh.embed.embed_items_notebook(docs_json, render_items);\n",
       "\n",
       "  }\n",
       "  if (root.Bokeh !== undefined) {\n",
       "    embed_document(root);\n",
       "  } else {\n",
       "    var attempts = 0;\n",
       "    var timer = setInterval(function(root) {\n",
       "      if (root.Bokeh !== undefined) {\n",
       "        embed_document(root);\n",
       "        clearInterval(timer);\n",
       "      }\n",
       "      attempts++;\n",
       "      if (attempts > 100) {\n",
       "        console.log(\"Bokeh: ERROR: Unable to run BokehJS code because BokehJS library is missing\");\n",
       "        clearInterval(timer);\n",
       "      }\n",
       "    }, 10, root)\n",
       "  }\n",
       "})(window);"
      ],
      "application/vnd.bokehjs_exec.v0+json": ""
     },
     "metadata": {
      "application/vnd.bokehjs_exec.v0+json": {
       "id": "3751"
      }
     },
     "output_type": "display_data"
    }
   ],
   "source": [
    "# Build the grid plot\n",
    "from bokeh.layouts import gridplot\n",
    "\n",
    "# Make the grid\n",
    "grid = gridplot([[plotMap()], [plotBar(), plotMagnitude()]])\n",
    "\n",
    "# Shor the grid\n",
    "show(grid)"
   ]
  },
  {
   "cell_type": "code",
   "execution_count": null,
   "metadata": {},
   "outputs": [],
   "source": []
  },
  {
   "cell_type": "code",
   "execution_count": null,
   "metadata": {},
   "outputs": [],
   "source": []
  },
  {
   "cell_type": "code",
   "execution_count": null,
   "metadata": {},
   "outputs": [],
   "source": []
  },
  {
   "cell_type": "code",
   "execution_count": null,
   "metadata": {},
   "outputs": [],
   "source": []
  },
  {
   "cell_type": "code",
   "execution_count": null,
   "metadata": {},
   "outputs": [],
   "source": []
  },
  {
   "cell_type": "code",
   "execution_count": null,
   "metadata": {},
   "outputs": [],
   "source": []
  },
  {
   "cell_type": "code",
   "execution_count": null,
   "metadata": {},
   "outputs": [],
   "source": []
  },
  {
   "cell_type": "code",
   "execution_count": null,
   "metadata": {},
   "outputs": [],
   "source": []
  },
  {
   "cell_type": "code",
   "execution_count": null,
   "metadata": {},
   "outputs": [],
   "source": []
  },
  {
   "cell_type": "code",
   "execution_count": null,
   "metadata": {},
   "outputs": [],
   "source": []
  },
  {
   "cell_type": "code",
   "execution_count": null,
   "metadata": {},
   "outputs": [],
   "source": []
  }
 ],
 "metadata": {
  "kernelspec": {
   "display_name": "Python 3",
   "language": "python",
   "name": "python3"
  },
  "language_info": {
   "codemirror_mode": {
    "name": "ipython",
    "version": 3
   },
   "file_extension": ".py",
   "mimetype": "text/x-python",
   "name": "python",
   "nbconvert_exporter": "python",
   "pygments_lexer": "ipython3",
   "version": "3.7.1"
  }
 },
 "nbformat": 4,
 "nbformat_minor": 2
}
